{
 "metadata": {
  "name": "",
  "signature": "sha256:51b486d1856339fd829e51f52adfab3eee053c814506604e92a314b42aeff5f6"
 },
 "nbformat": 3,
 "nbformat_minor": 0,
 "worksheets": [
  {
   "cells": [
    {
     "cell_type": "code",
     "collapsed": false,
     "input": [
      "%matplotlib inline\n",
      "import random \n",
      "import matplotlib.pyplot as plt\n",
      "from numpy import * \n",
      "import csv\n",
      "\n",
      "## Numpy - Array and basic manipulations\n",
      "a = arange(20).reshape(4,5)\n",
      "print a        ## Generated a 4 X 5 matrix\n",
      "d = a.copy()   ## Copy by reference\n",
      "e = a.view()   ## Copy by value\n",
      "a[1,0] = 33    ## Modified the original matrix\n",
      "print \"Copy by reference matrix changes: \\n\", d           \n",
      "print \"Copy by value matrix remains the same: \\n\", e\n",
      "\n",
      "print a[:,2:4]*10     ## Access a subset of the matrix and multiply all elements by a scalar\n",
      "print a[1,2]          ## Access a particular cell  \n",
      "print a.mean()        ## Total mean\n",
      "print \"Total sum:\", a.sum(), \"Verify using mean*Number of cells (same):\", a.mean()*a.shape[0]*a.shape[1]     ## Total sum \n",
      "print a.mean(axis=0)  ## Row mean\n",
      "print a.mean(axis=1)  ## Column mean\n",
      "\n",
      "## Part 2: Open an external file:\n",
      "data_all = genfromtxt('Classification_dataset.csv', delimiter=',',dtype = None)[1:]\n",
      "data_colnames = genfromtxt('Classification_dataset.csv', delimiter=',',dtype = None)[0]\n",
      "\n",
      "print myData.shape  ## Number of rows and columns  \n",
      "print data_colnames ## Column names (not used here)\n",
      " \n",
      "data_num = data_all[:,[4,9,10,11,12,13]]          ## Manually segregate the numercial variables\n",
      "data_cat = data_all[:,[0,1,2,3,5,6,7,8,14,15,16]] ## Manually segregate the categorical variables\n",
      "data_out = data_all[:,[17]]                       ## Manually segregate the output variables\n",
      "\n",
      "\n",
      "## Plotting a numpy array: Random-walk-1 generator\n",
      "position = 0\n",
      "walk = [position]\n",
      "steps= 500                                   ## Plot 500 steps\n",
      "for i in range(steps):\n",
      "    if random.randint(0,1) == 1:\n",
      "        step=1 \n",
      "    else:\n",
      "        step = -1\n",
      "    position = position + step\n",
      "    walk.append(position) \n",
      "plt.plot(walk)\n",
      "plt.ylabel('Random walk of order 1')\n",
      "plt.show()    \n"
     ],
     "language": "python",
     "metadata": {},
     "outputs": [
      {
       "output_type": "stream",
       "stream": "stdout",
       "text": [
        "[[ 0  1  2  3  4]\n",
        " [ 5  6  7  8  9]\n",
        " [10 11 12 13 14]\n",
        " [15 16 17 18 19]]\n",
        "Copy by reference matrix changes: \n",
        "[[ 0  1  2  3  4]\n",
        " [ 5  6  7  8  9]\n",
        " [10 11 12 13 14]\n",
        " [15 16 17 18 19]]\n",
        "Copy by value matrix remains the same: \n",
        "[[ 0  1  2  3  4]\n",
        " [33  6  7  8  9]\n",
        " [10 11 12 13 14]\n",
        " [15 16 17 18 19]]\n",
        "[[ 20  30]\n",
        " [ 70  80]\n",
        " [120 130]\n",
        " [170 180]]\n",
        "7\n",
        "10.9\n",
        "Total sum: 218 Verify using mean*Number of cells (same): 218.0\n",
        "[ 14.5   8.5   9.5  10.5  11.5]\n",
        "[  2.   12.6  12.   17. ]\n",
        "(36145L, 18L)"
       ]
      },
      {
       "output_type": "stream",
       "stream": "stdout",
       "text": [
        "\n",
        "['Location' 'Gender' 'ToD' 'DoW' 'Alcohol' 'BMI' 'Age' 'Current_task'\n",
        " 'White_noise' 'Window_distance' 'CO2' 'Sound' 'Pressure'\n",
        " 'Relative_humidity' 'Temperature' 'Room_type' 'Ethnicity' 'Outcome']\n"
       ]
      },
      {
       "metadata": {},
       "output_type": "pyout",
       "prompt_number": 147,
       "text": [
        "[<matplotlib.lines.Line2D at 0x33757128>]"
       ]
      },
      {
       "metadata": {},
       "output_type": "display_data",
       "png": "[encoded data removed]",
       "text": [
        "<matplotlib.figure.Figure at 0x4368dc88>"
       ]
      }
     ],
     "prompt_number": 147
    },
    {
     "cell_type": "code",
     "collapsed": false,
     "input": [
      "## Plotting a numpy array: Random-walk-1 generator\n",
      "import random \n",
      "position = 0\n",
      "walk = [position]\n",
      "steps= 500                                   ## Plot 500 steps\n",
      "for i in range(steps):\n",
      "    if random.randint(0,1) == 1:\n",
      "        step=1 \n",
      "    else:\n",
      "        step = -1\n",
      "    position = position + step\n",
      "    walk.append(position) \n",
      "plt.plot(walk)\n",
      "plt.ylabel('Random walk of order 1')\n",
      "plt.show()  "
     ],
     "language": "python",
     "metadata": {},
     "outputs": [
      {
       "metadata": {},
       "output_type": "display_data",
       "png": "[encoded data removed]",
       "text": [
        "<matplotlib.figure.Figure at 0x2ec078d0>"
       ]
      }
     ],
     "prompt_number": 162
    },
    {
     "cell_type": "code",
     "collapsed": false,
     "input": [
      "random.randint(0,1)"
     ],
     "language": "python",
     "metadata": {},
     "outputs": [
      {
       "metadata": {},
       "output_type": "pyout",
       "prompt_number": 158,
       "text": [
        "0"
       ]
      }
     ],
     "prompt_number": 158
    },
    {
     "cell_type": "code",
     "collapsed": false,
     "input": [],
     "language": "python",
     "metadata": {},
     "outputs": []
    }
   ],
   "metadata": {}
  }
 ]
}