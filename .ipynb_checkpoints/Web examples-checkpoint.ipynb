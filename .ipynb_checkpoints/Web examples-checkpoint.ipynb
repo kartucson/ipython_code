{
 "metadata": {
  "name": "",
  "signature": "sha256:a58a88235538038d1c4de46a47238567d59ef7452cd6ac3a38093a275abc5e26"
 },
 "nbformat": 3,
 "nbformat_minor": 0,
 "worksheets": []
}