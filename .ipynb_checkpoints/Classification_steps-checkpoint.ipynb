{
 "metadata": {
  "name": "",
  "signature": "sha256:577bde9b3ae46beffb99302db43ee863d5abaf0a25f66457ced7ee446b67e706"
 },
 "nbformat": 3,
 "nbformat_minor": 0,
 "worksheets": [
  {
   "cells": [
    {
     "cell_type": "code",
     "collapsed": false,
     "input": [
      "import os\n",
      "import pandas as pd\n",
      "from sklearn.preprocessing import Imputer\n",
      "from sklearn.linear_model import LogisticRegression, Perceptron\n",
      "from sklearn.svm import LinearSVC\n",
      "#from sklearn.naive_bayes import MultinomialNB\n",
      "from sklearn.ensemble import RandomForestClassifier\n",
      "import numpy as np\n",
      "from sklearn.tree import DecisionTreeClassifier\n",
      "\n",
      "def data_input():\n",
      "    df = pd.read_csv('https://raw.githubusercontent.com/kartucson/Python_practice/master/Classification_dataset.csv')\n",
      "    cate_var = df.select_dtypes(['object'])  ## Filter out the categorical variables\n",
      "    num_var = df.select_dtypes(['float64'])  ## Filter out the numerical inputs\n",
      "\n",
      "    cate_in = cate_var.drop('Outcome',axis=1)  ## Remove the outcome variable\n",
      "    output_var = cate_var.ix[:,-1]             ## Outcome as a dataframe  \n",
      "\n",
      "    print df.count(axis=0, level=None, numeric_only=False)  ## Print the variables with non-zero count of values for each attribute\n",
      "\n",
      "    df = df.drop(['White_noise','Room_type','Window_distance'],axis=1)  ## Remove the variables which have too many missing values ( > 50%)\n",
      "    num_var = num_var.fillna(num_var.mean())   ## Impute the numerical input matrix with grand means for each attribute \n",
      "\n",
      "    categorical_ind = pd.DataFrame([])  ## Creating an empty dataframe \n",
      "    var_names = list(cate_in.columns.values)  ## Names of columns of categorical variables to use in the forthcoming loop\n",
      "\n",
      "    for i in range(0,(cate_in.shape[1])):\n",
      "        var_ind = pd.get_dummies(cate_in.ix[:,var_names[i]],prefix = var_names[i])   ## Creates {1,0} indicator variables \n",
      "        categorical_ind = pd.concat([categorical_ind,var_ind],axis=1)                  \n",
      "\n",
      "    input_var = pd.concat([categorical_ind,num_var],axis=1) ## Concatenate the input dataset again\n",
      "    return input_var, output_var\n",
      "\n",
      "def model_fitting (input_var,output_var):\n",
      "    model_set = []\n",
      "    model_set = [LinearSVC, LogisticRegression, Perceptron, DecisionTreeClassifier,RandomForestClassifier]\n",
      "    model_fit = []\n",
      "    for m in range(0,len(model_set)-1):\n",
      "        model_out = model_set[m]().fit(input_var,output_var)\n",
      "        model_fit.append(model_out)  \n",
      "    return model_fit \n",
      "    \n",
      "def prediction_accuracy (model, input_var, output_var):         ## Function to compute insample prediction accuracy    \n",
      "    model_pred = model.predict(input_var)\n",
      "    model_pred = pd.DataFrame(model_pred)\n",
      "    output_var = pd.DataFrame(output_var)\n",
      "\n",
      "    Accuracy_mat = pd.concat([model_pred,output_var], axis=1)\n",
      "    Accuracy_mat.columns = ['Predicted', 'Actual']\n",
      "    \n",
      "    Accuracy_count = 0\n",
      "    for c in range(0,Accuracy_mat.shape[0]):                    ## compute prediction accuracy\n",
      "        predicted = Accuracy_mat.ix[c,0]\n",
      "        actual = Accuracy_mat.ix[c,1]\n",
      "        if(predicted == actual):\n",
      "            Accuracy_count = Accuracy_count + 1\n",
      "\n",
      "    print \"Accuracy of model is\", np.round(float(Accuracy_count)/float(Accuracy_mat.shape[0])*100,2), \"%\" \n",
      "    \n",
      "def main():\n",
      "    input_matrix, output_matrix = data_input()\n",
      "    model_list = [\"SVM\", \"Logistic Regression\", \"Neural Networks\", \"Decision Trees\",\"Random-Forest\"]\n",
      "    models = []\n",
      "    models = model_fitting(input_matrix, output_matrix)\n",
      "    for i in range(0,len(model_list)-1):\n",
      "        print \"Model performance for \", model_list[i], \" classifier: \\n\", prediction_accuracy (models[i],input_matrix, output_matrix)\n",
      "    #print \"Model performance for Decision Tree classifier: \\n\", prediction_accuracy (Decision_tree,input_matrix, output_matrix)\n",
      "\n",
      "if __name__==\"__main__\":\n",
      "    main()\n"
     ],
     "language": "python",
     "metadata": {},
     "outputs": [
      {
       "ename": "IndentationError",
       "evalue": "expected an indented block (<ipython-input-24-24e7df33bf68>, line 70)",
       "output_type": "pyerr",
       "traceback": [
        "\u001b[1;36m  File \u001b[1;32m\"<ipython-input-24-24e7df33bf68>\"\u001b[1;36m, line \u001b[1;32m70\u001b[0m\n\u001b[1;33m    main()\u001b[0m\n\u001b[1;37m       ^\u001b[0m\n\u001b[1;31mIndentationError\u001b[0m\u001b[1;31m:\u001b[0m expected an indented block\n"
       ]
      }
     ],
     "prompt_number": 24
    },
    {
     "cell_type": "code",
     "collapsed": false,
     "input": [],
     "language": "python",
     "metadata": {},
     "outputs": []
    }
   ],
   "metadata": {}
  }
 ]
}