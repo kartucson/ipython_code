{
 "metadata": {
  "name": "",
  "signature": "sha256:4041cfb87f9654c1092513488655a3a0a04d7e80cf793c16220c7bcb7cb0fd7e"
 },
 "nbformat": 3,
 "nbformat_minor": 0,
 "worksheets": [
  {
   "cells": [
    {
     "cell_type": "code",
     "collapsed": false,
     "input": [
      "import os\n",
      "import pandas as pd\n",
      "from sklearn.preprocessing import Imputer\n",
      "from sklearn.linear_model import LogisticRegression, Perceptron\n",
      "from sklearn.svm import LinearSVC\n",
      "from sklearn.ensemble import RandomForestClassifier\n",
      "import numpy as np\n",
      "from sklearn.tree import DecisionTreeClassifier\n",
      "import time\n",
      "\n",
      "def data_input():\n",
      "    df = pd.read_csv('https://raw.githubusercontent.com/kartucson/Python_practice/master/Classification_dataset.csv')\n",
      "    cate_var = df.select_dtypes(['object'])  ## Filter out the categorical variables\n",
      "    num_var = df.select_dtypes(['float64'])  ## Filter out the numerical inputs\n",
      "\n",
      "    cate_in = cate_var.drop('Outcome',axis=1)  ## Remove the outcome variable\n",
      "    output_var = cate_var.ix[:,-1]             ## Outcome as a dataframe  \n",
      "\n",
      "    #print df.count(axis=0, level=None, numeric_only=False)  ## Print the variables with non-zero count of values for each attribute\n",
      "\n",
      "    df = df.drop(['White_noise','Room_type','Window_distance'],axis=1)  ## Remove the variables which have too many missing values ( > 50%)\n",
      "    num_var = num_var.fillna(num_var.mean())   ## Impute the numerical input matrix with grand means for each attribute \n",
      "\n",
      "    categorical_ind = pd.DataFrame([])  ## Creating an empty dataframe \n",
      "    var_names = list(cate_in.columns.values)  ## Names of columns of categorical variables to use in the forthcoming loop\n",
      "\n",
      "    for i in range(0,(cate_in.shape[1])):\n",
      "        var_ind = pd.get_dummies(cate_in.ix[:,var_names[i]],prefix = var_names[i])   ## Creates {1,0} indicator variables \n",
      "        categorical_ind = pd.concat([categorical_ind,var_ind],axis=1)                  \n",
      "\n",
      "    input_var = pd.concat([categorical_ind,num_var],axis=1) ## Concatenate the input dataset again\n",
      "    return input_var, output_var\n",
      "\n",
      "def model_fitting (input_var,output_var):\n",
      "    model_set = []\n",
      "    model_set = [LinearSVC, LogisticRegression, Perceptron, DecisionTreeClassifier,RandomForestClassifier]\n",
      "    model_fit = []\n",
      "    for m in range(0,len(model_set)-1):\n",
      "        model_out = model_set[m]().fit(input_var,output_var)\n",
      "        model_fit.append(model_out)  \n",
      "    return model_fit   \n"
     ],
     "language": "python",
     "metadata": {},
     "outputs": [],
     "prompt_number": 3
    },
    {
     "cell_type": "code",
     "collapsed": false,
     "input": [
      "def prediction_accuracy (model, input_var, output_var):         ## Function to compute insample prediction accuracy    \n",
      "    model_pred = model.predict(input_var)\n",
      "    model_pred = pd.DataFrame(model_pred)\n",
      "    output_var = pd.DataFrame(output_var)\n",
      "\n",
      "    Accuracy_mat = pd.concat([model_pred,output_var], axis=1)\n",
      "    Accuracy_mat.columns = ['Predicted', 'Actual']\n",
      "    \n",
      "    Accuracy_count = 0\n",
      "    for c in range(0,Accuracy_mat.shape[0]):                    ## compute prediction accuracy\n",
      "        predicted = Accuracy_mat.ix[c,0]\n",
      "        actual = Accuracy_mat.ix[c,1]\n",
      "        if(predicted == actual):\n",
      "            Accuracy_count = Accuracy_count + 1\n",
      "\n",
      "    print \"Accuracy of model is\", np.round(float(Accuracy_count)/float(Accuracy_mat.shape[0])*100,2), \"%\" \n",
      "    "
     ],
     "language": "python",
     "metadata": {},
     "outputs": [],
     "prompt_number": 4
    },
    {
     "cell_type": "code",
     "collapsed": false,
     "input": [
      "start_time = time.time()\n",
      "input_matrix, output_matrix = data_input()\n",
      "print(\"--- %s seconds ---\" % (time.time() - start_time))   "
     ],
     "language": "python",
     "metadata": {},
     "outputs": [
      {
       "output_type": "stream",
       "stream": "stdout",
       "text": [
        "--- 1.44899988174 seconds ---\n"
       ]
      }
     ],
     "prompt_number": 5
    },
    {
     "cell_type": "code",
     "collapsed": false,
     "input": [
      "model_list = [\"SVM\", \"Logistic Regression\", \"Neural Networks\", \"Decision Trees\",\"Random-Forest\"]\n",
      "models = []\n",
      "\n",
      "start_time = time.time()\n",
      "models = model_fitting(input_matrix, output_matrix)\n",
      "print(\"--- %s seconds ---\" % (time.time() - start_time))\n"
     ],
     "language": "python",
     "metadata": {},
     "outputs": [
      {
       "output_type": "stream",
       "stream": "stdout",
       "text": [
        "--- 59.4650001526 seconds ---\n"
       ]
      }
     ],
     "prompt_number": 8
    },
    {
     "cell_type": "code",
     "collapsed": false,
     "input": [
      "start_time = time.time()\n",
      "for i in range(0,len(model_list)-1):\n",
      "    print \"Model performance for \", model_list[i], \" classifier: \\n\", prediction_accuracy (models[i],input_matrix, output_matrix)\n",
      "\n",
      "print(\"--- %s seconds ---\" % (time.time() - start_time))"
     ],
     "language": "python",
     "metadata": {},
     "outputs": [
      {
       "output_type": "stream",
       "stream": "stdout",
       "text": [
        "Model performance for  SVM  classifier: \n",
        "Accuracy of model is"
       ]
      },
      {
       "output_type": "stream",
       "stream": "stdout",
       "text": [
        " 35.55 %\n",
        "None\n",
        "Model performance for  Logistic Regression  classifier: \n",
        "Accuracy of model is"
       ]
      },
      {
       "output_type": "stream",
       "stream": "stdout",
       "text": [
        " 38.75 %\n",
        "None\n",
        "Model performance for  Neural Networks  classifier: \n",
        "Accuracy of model is"
       ]
      },
      {
       "output_type": "stream",
       "stream": "stdout",
       "text": [
        " 33.61 %\n",
        "None\n",
        "Model performance for  Decision Trees  classifier: \n",
        "Accuracy of model is"
       ]
      },
      {
       "output_type": "stream",
       "stream": "stdout",
       "text": [
        " 90.93 %\n",
        "None\n",
        "--- 152.743000031 seconds ---\n"
       ]
      }
     ],
     "prompt_number": 9
    },
    {
     "cell_type": "code",
     "collapsed": false,
     "input": [
      "# Test for one model\n",
      "start_time = time.time()\n",
      "np_array = []\n",
      "\n",
      "input_var = input_matrix\n",
      "output_var = output_matrix\n",
      "model = models[0]         ## Function to compute insample prediction accuracy    \n",
      "model_pred = model.predict(input_var)\n",
      "model_pred = pd.DataFrame(model_pred)\n",
      "output_var = pd.DataFrame(output_var)\n",
      "\n",
      "Accuracy_mat = pd.concat([model_pred,output_var], axis=1)\n",
      "Accuracy_mat.columns = ['Predicted', 'Actual']\n",
      "\n",
      "for c in range(0,Accuracy_mat.shape[0]):\n",
      "    predicted = Accuracy_mat.ix[c,0]\n",
      "    actual = Accuracy_mat.ix[c,1]\n",
      "    if(predicted == actual):\n",
      "        np_array.append(1)\n",
      "    else:\n",
      "        np_array.append(0)\n",
      "\n",
      "print np.array(np_array)\n",
      "print(\"--- %s seconds ---\" % (time.time() - start_time))  "
     ],
     "language": "python",
     "metadata": {},
     "outputs": [
      {
       "output_type": "stream",
       "stream": "stdout",
       "text": [
        "[0 0 0 ..., 1 1 1]\n",
        "--- 38.1050000191 seconds ---\n"
       ]
      }
     ],
     "prompt_number": 13
    },
    {
     "cell_type": "code",
     "collapsed": false,
     "input": [],
     "language": "python",
     "metadata": {},
     "outputs": []
    },
    {
     "cell_type": "code",
     "collapsed": false,
     "input": [
      "Indicator = pd.DataFrame(np_array)\n",
      "print Indicator.head(9)\n",
      "Accuracy_matrix = pd.concat([Accuracy_mat,Indicator],axis=1)\n",
      "Accuracy_matrix.columns = ['Predicted', 'Actual','Error_Indicator']\n",
      "print Accuracy_matrix.head(9)"
     ],
     "language": "python",
     "metadata": {},
     "outputs": [
      {
       "output_type": "stream",
       "stream": "stdout",
       "text": [
        "   0\n",
        "0  0\n",
        "1  0\n",
        "2  0\n",
        "3  0\n",
        "4  0\n",
        "5  0\n",
        "6  0\n",
        "7  1\n",
        "8  1\n",
        "    Predicted      Actual  Error_Indicator\n",
        "0  Low stress      Stress                0\n",
        "1  Low stress      Stress                0\n",
        "2  Low stress      Stress                0\n",
        "3  Low stress      Stress                0\n",
        "4  Low stress      Stress                0\n",
        "5  Low stress      Stress                0\n",
        "6  Low stress      Stress                0\n",
        "7  Low stress  Low stress                1\n",
        "8  Low stress  Low stress                1\n"
       ]
      }
     ],
     "prompt_number": 24
    },
    {
     "cell_type": "code",
     "collapsed": false,
     "input": [
      "## Now for each class, find the ## precision, recall, accuracy, F1\n",
      "## Accuracy = (TP + FP) / (TP + FP + TN + FN)\n",
      "## Precision = (TP/(TP+FP)) = Correct/Total_predicted_class\n",
      "## Recall = (TP/(TP+TN)) = Correct/Total_actual_class\n",
      "## FN = 2 P.R /(P + R)\n",
      "\n",
      "## This piece of code is borrowed from Wenli!\n",
      "\n",
      "#Precision_class = Accuracy_matrix.groupby(\"Actual\")\n",
      "\n",
      "Accuracy_class = Accuracy_matrix.groupby(\"Actual\").mean().add_prefix('mean_')\n",
      "print Accuracy_class\n",
      "\n",
      "Correct_class_pred = Accuracy_matrix.groupby(\"Actual\").sum() \n",
      "Total_class_pred = Accuracy_matrix.groupby(\"Predicted\").count() \n",
      "Total_class_actual = Accuracy_matrix.groupby(\"Actual\").count()\n",
      "\n",
      "'''\n",
      "print Correct_class_pred\n",
      "print Total_class_pred.ix[:,0]\n",
      "print Total_class_actual.ix[:,0]\n",
      "'''\n",
      "\n",
      "err_mat = pd.concat([Correct_class_pred,Total_class_pred.ix[:,0],Total_class_actual.ix[:,0]], axis= 1)\n",
      "err_mat.columns = ['Correct_pred','Total_pred','Total_actual']\n",
      "\n",
      "print err_mat\n",
      "\n",
      "Precision_class = err_mat['Correct_pred'] / err_mat['Total_pred']\n",
      "\n",
      "Recall_class = err_mat['Correct_pred'] / err_mat['Total_actual']\n",
      "F1_class = 2*Precision_class*Recall_class / (Precision_class + Recall_class)\n",
      "\n",
      "P_R_F_class = pd.concat([Precision_class,Recall_class,F1_class],axis=1)\n",
      "\n",
      "P_R_F_class.columns = ['Precision','Recall','F1_class']\n",
      "\n",
      "print P_R_F_class\n",
      "#, Recall_class, F1_class \n"
     ],
     "language": "python",
     "metadata": {},
     "outputs": [
      {
       "output_type": "stream",
       "stream": "stdout",
       "text": [
        "             mean_Error_Indicator\n",
        "Actual                           \n",
        "High stress              0.100266\n",
        "Low stress               0.605953\n",
        "Stress                   0.359867\n",
        "             Correct_pred  Total_pred  Total_actual\n",
        "Actual                                             \n",
        "High stress          1208        2808         12048\n",
        "Low stress           7309       20750         12062\n",
        "Stress               4331       12587         12035"
       ]
      },
      {
       "output_type": "stream",
       "stream": "stdout",
       "text": [
        "\n",
        "             Precision    Recall  F1_class\n",
        "Actual                                    \n",
        "High stress   0.430199  0.100266  0.162628\n",
        "Low stress    0.352241  0.605953  0.445508\n",
        "Stress        0.344085  0.359867  0.351799\n"
       ]
      }
     ],
     "prompt_number": 64
    },
    {
     "cell_type": "code",
     "collapsed": false,
     "input": [
      "### Traceback: Now where am I... Prediction done using insample.\n",
      "## DO it for train-test & then k-fold. Then repeat this accuracy, recall, for all classes for each of the methods and draw the matrix\n",
      "## Do it for all the models. Print in good format ##\n",
      "## Rank the variables and at last: Sensitive analysis\n",
      "\n",
      "print Precision_class[1:10]"
     ],
     "language": "python",
     "metadata": {},
     "outputs": [
      {
       "output_type": "stream",
       "stream": "stdout",
       "text": [
        "Actual\n",
        "Low stress    0.352241\n",
        "Stress        0.344085\n",
        "dtype: float64\n"
       ]
      }
     ],
     "prompt_number": 61
    },
    {
     "cell_type": "code",
     "collapsed": false,
     "input": [
      "print Accuracy_matrix.ix[1:10,1]"
     ],
     "language": "python",
     "metadata": {},
     "outputs": [
      {
       "output_type": "stream",
       "stream": "stdout",
       "text": [
        "1         Stress\n",
        "2         Stress\n",
        "3         Stress\n",
        "4         Stress\n",
        "5         Stress\n",
        "6         Stress\n",
        "7     Low stress\n",
        "8     Low stress\n",
        "9     Low stress\n",
        "10    Low stress\n",
        "Name: Actual, dtype: object\n"
       ]
      }
     ],
     "prompt_number": 63
    },
    {
     "cell_type": "code",
     "collapsed": false,
     "input": [
      "## Now for some cross-validation & average the result\n",
      "\n",
      "from sklearn.cross_validation import KFold\n",
      "\n",
      "kf = KFold(input_var.shape[0], shuffle = True, n_folds=10)\n",
      "print kf\n",
      "\n",
      "train_data = []\n",
      "test_data = []\n",
      "k=0\n",
      "for train, test in kf:\n",
      "#    print(\"%s %s\" % (train, test))\n",
      "    #train_data[k] = train\n",
      "    #test_data[k] = test\n",
      "    train_data.append(train)\n",
      "    k= k+1\n",
      "\n",
      "temp = pd.DataFrame(train_data[1])\n",
      "print temp"
     ],
     "language": "python",
     "metadata": {},
     "outputs": [
      {
       "output_type": "stream",
       "stream": "stdout",
       "text": [
        "sklearn.cross_validation.KFold(n=36145, n_folds=10, shuffle=True, random_state=None)\n",
        "           0\n",
        "0          0\n",
        "1          1\n",
        "2          3\n",
        "3          4\n",
        "4          5\n",
        "5          6\n",
        "6          7\n",
        "7          8\n",
        "8          9\n",
        "9         10\n",
        "10        11\n",
        "11        12\n",
        "12        14\n",
        "13        15\n",
        "14        16\n",
        "15        17\n",
        "16        19\n",
        "17        20\n",
        "18        21\n",
        "19        22\n",
        "20        23\n",
        "21        24\n",
        "22        25\n",
        "23        26\n",
        "24        27\n",
        "25        28\n",
        "26        29\n",
        "27        30\n",
        "28        31\n",
        "29        32\n",
        "...      ...\n",
        "32500  36114\n",
        "32501  36115\n",
        "32502  36116\n",
        "32503  36117\n",
        "32504  36118\n",
        "32505  36119\n",
        "32506  36120\n",
        "32507  36121\n",
        "32508  36122\n",
        "32509  36123\n",
        "32510  36124\n",
        "32511  36125\n",
        "32512  36126\n",
        "32513  36127\n",
        "32514  36128\n",
        "32515  36129\n",
        "32516  36130\n",
        "32517  36131\n",
        "32518  36132\n",
        "32519  36133\n",
        "32520  36134\n",
        "32521  36136\n",
        "32522  36137\n",
        "32523  36138\n",
        "32524  36139\n",
        "32525  36140\n",
        "32526  36141\n",
        "32527  36142\n",
        "32528  36143\n",
        "32529  36144\n",
        "\n",
        "[32530 rows x 1 columns]\n"
       ]
      }
     ],
     "prompt_number": 96
    },
    {
     "cell_type": "code",
     "collapsed": false,
     "input": [
      "train_data = []\n",
      "print type(train_data)"
     ],
     "language": "python",
     "metadata": {},
     "outputs": [
      {
       "output_type": "stream",
       "stream": "stdout",
       "text": [
        "<type 'list'>\n"
       ]
      }
     ],
     "prompt_number": 87
    },
    {
     "cell_type": "code",
     "collapsed": false,
     "input": [],
     "language": "python",
     "metadata": {},
     "outputs": []
    }
   ],
   "metadata": {}
  }
 ]
}