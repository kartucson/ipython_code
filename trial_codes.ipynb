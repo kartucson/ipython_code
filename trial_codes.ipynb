{
 "metadata": {
  "name": "",
  "signature": "sha256:2ca1aef27c0f16ab302aacdadea00046f11fc9abd8b3ab61169fc1e4e357aa15"
 },
 "nbformat": 3,
 "nbformat_minor": 0,
 "worksheets": [
  {
   "cells": [
    {
     "cell_type": "code",
     "collapsed": false,
     "input": [
      "import ply.lex as lex\n",
      "import ply.yacc as yacc\n",
      "\n",
      "string1 = str('Hello')\n",
      "print string1[0]\n",
      "print string1.skip(1)\n",
      "print string1[2]"
     ],
     "language": "python",
     "metadata": {},
     "outputs": [
      {
       "output_type": "stream",
       "stream": "stdout",
       "text": [
        "H\n"
       ]
      },
      {
       "ename": "AttributeError",
       "evalue": "'str' object has no attribute 'skip'",
       "output_type": "pyerr",
       "traceback": [
        "\u001b[1;31m---------------------------------------------------------------------------\u001b[0m\n\u001b[1;31mAttributeError\u001b[0m                            Traceback (most recent call last)",
        "\u001b[1;32m<ipython-input-8-89461efdde09>\u001b[0m in \u001b[0;36m<module>\u001b[1;34m()\u001b[0m\n\u001b[0;32m      4\u001b[0m \u001b[0mstring1\u001b[0m \u001b[1;33m=\u001b[0m \u001b[0mstr\u001b[0m\u001b[1;33m(\u001b[0m\u001b[1;34m'Hello'\u001b[0m\u001b[1;33m)\u001b[0m\u001b[1;33m\u001b[0m\u001b[0m\n\u001b[0;32m      5\u001b[0m \u001b[1;32mprint\u001b[0m \u001b[0mstring1\u001b[0m\u001b[1;33m[\u001b[0m\u001b[1;36m0\u001b[0m\u001b[1;33m]\u001b[0m\u001b[1;33m\u001b[0m\u001b[0m\n\u001b[1;32m----> 6\u001b[1;33m \u001b[1;32mprint\u001b[0m \u001b[0mstring1\u001b[0m\u001b[1;33m.\u001b[0m\u001b[0mskip\u001b[0m\u001b[1;33m(\u001b[0m\u001b[1;36m1\u001b[0m\u001b[1;33m)\u001b[0m\u001b[1;33m\u001b[0m\u001b[0m\n\u001b[0m\u001b[0;32m      7\u001b[0m \u001b[1;32mprint\u001b[0m \u001b[0mstring1\u001b[0m\u001b[1;33m[\u001b[0m\u001b[1;36m2\u001b[0m\u001b[1;33m]\u001b[0m\u001b[1;33m\u001b[0m\u001b[0m\n",
        "\u001b[1;31mAttributeError\u001b[0m: 'str' object has no attribute 'skip'"
       ]
      }
     ],
     "prompt_number": 8
    },
    {
     "cell_type": "code",
     "collapsed": false,
     "input": [
      "t_SYMBOL = (\n",
      "t_MATCHKEY = r'match|Match|MATCH'\n",
      "t_NODECOLON = r':'\n",
      "t_SQUAREIN = r'[' \n",
      "t_SQUAREOUT = r']'\n",
      "t_ROUNDIN = r'('\n",
      "t_ROUNDOUT = r')'\n",
      "t_CURLYIN = r'{'\n",
      "t_CURLYOUT = r'}'\n",
      "t_NODELABEL = r'[a-zA-Z]+'\n",
      "t_NODENAME = r'[a-zA-Z]+'\n",
      "t_EDGEDASH = r'-'\n",
      "t_EDGEFUNCTION = r'[a-zA-Z]+'\n",
      "t_EDGEDIRECTION = r'>'\n",
      "t_RETURNKEY = r'return|Return|RETURN'\n",
      "t_RETURNSEPARATOR = r','\n",
      "t_TERMINATOR = r';'\n",
      "t_ignore    = ' '   ## Ignore tabs or spaces\n",
      ")\n",
      "\n",
      "print t_SYMBOL"
     ],
     "language": "python",
     "metadata": {},
     "outputs": [
      {
       "ename": "SyntaxError",
       "evalue": "invalid syntax (<ipython-input-10-974d611ff95b>, line 2)",
       "output_type": "pyerr",
       "traceback": [
        "\u001b[1;36m  File \u001b[1;32m\"<ipython-input-10-974d611ff95b>\"\u001b[1;36m, line \u001b[1;32m2\u001b[0m\n\u001b[1;33m    t_MATCHKEY = r'match|MATCH'\u001b[0m\n\u001b[1;37m               ^\u001b[0m\n\u001b[1;31mSyntaxError\u001b[0m\u001b[1;31m:\u001b[0m invalid syntax\n"
       ]
      }
     ],
     "prompt_number": 10
    },
    {
     "cell_type": "code",
     "collapsed": false,
     "input": [
      "tokens = (\n",
      "    'NAME','NUMBER',\n",
      "    'PLUS','MINUS','TIMES','DIVIDE','EQUALS',\n",
      "    'LPAREN','RPAREN',\n",
      "    )\n",
      "\n",
      "# Tokens\n",
      "\n",
      "t_PLUS    = r'\\+'\n",
      "t_MINUS   = r'-'\n",
      "t_TIMES   = r'\\*'\n",
      "t_DIVIDE  = r'/'\n",
      "t_EQUALS  = r'='\n",
      "t_LPAREN  = r'\\('\n",
      "t_RPAREN  = r'\\)'\n",
      "t_NAME    = r'[a-zA-Z_][a-zA-Z0-9_]*'\n",
      "\n",
      "def t_NUMBER(t):\n",
      "    r'\\d+'\n",
      "    try:\n",
      "        t.value = int(t.value)\n",
      "    except ValueError:\n",
      "        print(\"Integer value too large %d\", t.value)\n",
      "        t.value = 0\n",
      "    return t\n",
      "\n",
      "# Ignored characters\n",
      "t_ignore = \" \\t\"\n",
      "\n",
      "def t_newline(t):\n",
      "    r'\\n+'\n",
      "    t.lexer.lineno += t.value.count(\"\\n\")\n",
      "    \n",
      "def t_error(t):\n",
      "    print(\"Illegal character '%s'\" % t.value[0])\n",
      "    t.lexer.skip(1)\n",
      "    \n",
      "# Build the lexer\n",
      "import ply.lex as lex\n",
      "lexer = lex.lex()\n",
      "\n",
      "# Parsing rules\n",
      "\n",
      "precedence = (\n",
      "    ('left','PLUS','MINUS'),\n",
      "    ('left','TIMES','DIVIDE'),\n",
      "    ('right','UMINUS'),\n",
      "    )\n",
      "\n",
      "# dictionary of names\n",
      "names = { }\n",
      "\n",
      "def p_statement_assign(t):\n",
      "    'statement : NAME EQUALS expression'\n",
      "    names[t[1]] = t[3]\n",
      "\n",
      "def p_statement_expr(t):\n",
      "    'statement : expression'\n",
      "    print(t[1])\n",
      "\n",
      "def p_expression_binop(t):\n",
      "    '''expression : expression PLUS expression\n",
      "                  | expression MINUS expression\n",
      "                  | expression TIMES expression\n",
      "                  | expression DIVIDE expression'''\n",
      "    if t[2] == '+'  : t[0] = t[1] + t[3]\n",
      "    elif t[2] == '-': t[0] = t[1] - t[3]\n",
      "    elif t[2] == '*': t[0] = t[1] * t[3]\n",
      "    elif t[2] == '/': t[0] = t[1] / t[3]\n",
      "\n",
      "def p_expression_uminus(t):\n",
      "    'expression : MINUS expression %prec UMINUS'\n",
      "    t[0] = -t[2]\n",
      "\n",
      "def p_expression_group(t):\n",
      "    'expression : LPAREN expression RPAREN'\n",
      "    t[0] = t[2]\n",
      "\n",
      "def p_expression_number(t):\n",
      "    'expression : NUMBER'\n",
      "    t[0] = t[1]\n",
      "\n",
      "def p_expression_name(t):\n",
      "    'expression : NAME'\n",
      "    try:\n",
      "        t[0] = names[t[1]]\n",
      "    except LookupError:\n",
      "        print(\"Undefined name '%s'\" % t[1])\n",
      "        t[0] = 0\n",
      "\n",
      "def p_error(t):\n",
      "    print(\"Syntax error at '%s'\" % t.value)\n",
      "\n",
      "import ply.yacc as yacc\n",
      "parser = yacc.yacc()\n",
      "\n",
      "while True:\n",
      "    try:\n",
      "        s = input('calc > ')   # Use raw_input on Python 2\n",
      "    except EOFError:\n",
      "        break\n",
      "    parser.parse(s)"
     ],
     "language": "python",
     "metadata": {},
     "outputs": [
      {
       "ename": "KeyError",
       "evalue": "'__file__'",
       "output_type": "pyerr",
       "traceback": [
        "\u001b[1;31m---------------------------------------------------------------------------\u001b[0m\n\u001b[1;31mKeyError\u001b[0m                                  Traceback (most recent call last)",
        "\u001b[1;32m<ipython-input-11-0e36c2f6450f>\u001b[0m in \u001b[0;36m<module>\u001b[1;34m()\u001b[0m\n\u001b[0;32m     38\u001b[0m \u001b[1;31m# Build the lexer\u001b[0m\u001b[1;33m\u001b[0m\u001b[1;33m\u001b[0m\u001b[0m\n\u001b[0;32m     39\u001b[0m \u001b[1;32mimport\u001b[0m \u001b[0mply\u001b[0m\u001b[1;33m.\u001b[0m\u001b[0mlex\u001b[0m \u001b[1;32mas\u001b[0m \u001b[0mlex\u001b[0m\u001b[1;33m\u001b[0m\u001b[0m\n\u001b[1;32m---> 40\u001b[1;33m \u001b[0mlexer\u001b[0m \u001b[1;33m=\u001b[0m \u001b[0mlex\u001b[0m\u001b[1;33m.\u001b[0m\u001b[0mlex\u001b[0m\u001b[1;33m(\u001b[0m\u001b[1;33m)\u001b[0m\u001b[1;33m\u001b[0m\u001b[0m\n\u001b[0m\u001b[0;32m     41\u001b[0m \u001b[1;33m\u001b[0m\u001b[0m\n\u001b[0;32m     42\u001b[0m \u001b[1;31m# Parsing rules\u001b[0m\u001b[1;33m\u001b[0m\u001b[1;33m\u001b[0m\u001b[0m\n",
        "\u001b[1;32mF:\\Software_Envy\\Python_2.7\\lib\\site-packages\\ply\\lex.pyc\u001b[0m in \u001b[0;36mlex\u001b[1;34m(module, object, debug, optimize, lextab, reflags, nowarn, outputdir, debuglog, errorlog)\u001b[0m\n\u001b[0;32m    892\u001b[0m         \u001b[1;31m#     - Otherwise, files go in the same directory as the specifying module\u001b[0m\u001b[1;33m\u001b[0m\u001b[1;33m\u001b[0m\u001b[0m\n\u001b[0;32m    893\u001b[0m         \u001b[1;32mif\u001b[0m \u001b[1;34m'.'\u001b[0m \u001b[1;32mnot\u001b[0m \u001b[1;32min\u001b[0m \u001b[0mlextab\u001b[0m\u001b[1;33m:\u001b[0m\u001b[1;33m\u001b[0m\u001b[0m\n\u001b[1;32m--> 894\u001b[1;33m             \u001b[0msrcfile\u001b[0m \u001b[1;33m=\u001b[0m \u001b[0mldict\u001b[0m\u001b[1;33m[\u001b[0m\u001b[1;34m'__file__'\u001b[0m\u001b[1;33m]\u001b[0m\u001b[1;33m\u001b[0m\u001b[0m\n\u001b[0m\u001b[0;32m    895\u001b[0m         \u001b[1;32melse\u001b[0m\u001b[1;33m:\u001b[0m\u001b[1;33m\u001b[0m\u001b[0m\n\u001b[0;32m    896\u001b[0m             \u001b[0mparts\u001b[0m \u001b[1;33m=\u001b[0m \u001b[0mlextab\u001b[0m\u001b[1;33m.\u001b[0m\u001b[0msplit\u001b[0m\u001b[1;33m(\u001b[0m\u001b[1;34m'.'\u001b[0m\u001b[1;33m)\u001b[0m\u001b[1;33m\u001b[0m\u001b[0m\n",
        "\u001b[1;31mKeyError\u001b[0m: '__file__'"
       ]
      }
     ],
     "prompt_number": 11
    },
    {
     "cell_type": "code",
     "collapsed": false,
     "input": [
      "import os\n",
      "os.getcwd()\n",
      "#os.chdir('C://Users//karthik//Google Drive//Course_projects//Sem_3//Sem 3//MIS611//HW_2_codes') \n",
      "os.chdir('G://cypher_compiler') \n",
      "print os.getcwd()"
     ],
     "language": "python",
     "metadata": {},
     "outputs": [
      {
       "output_type": "stream",
       "stream": "stdout",
       "text": [
        "G:\\cypher_compiler\n"
       ]
      }
     ],
     "prompt_number": 17
    },
    {
     "cell_type": "code",
     "collapsed": false,
     "input": [],
     "language": "python",
     "metadata": {},
     "outputs": [
      {
       "ename": "NameError",
       "evalue": "name 'calc' is not defined",
       "output_type": "pyerr",
       "traceback": [
        "\u001b[1;31m---------------------------------------------------------------------------\u001b[0m\n\u001b[1;31mNameError\u001b[0m                                 Traceback (most recent call last)",
        "\u001b[1;32m<ipython-input-15-219d16969712>\u001b[0m in \u001b[0;36m<module>\u001b[1;34m()\u001b[0m\n\u001b[1;32m----> 1\u001b[1;33m \u001b[0mcalc\u001b[0m\u001b[1;33m.\u001b[0m\u001b[0mpy\u001b[0m\u001b[1;33m\u001b[0m\u001b[0m\n\u001b[0m",
        "\u001b[1;31mNameError\u001b[0m: name 'calc' is not defined"
       ]
      }
     ],
     "prompt_number": 15
    }
   ],
   "metadata": {}
  }
 ]
}