{
 "metadata": {
  "name": "",
  "signature": "sha256:7d55a58d4cf27bfaf6dc841cb2d4c87f5ee5ffd903b1c6a125e355d3e73d41e4"
 },
 "nbformat": 3,
 "nbformat_minor": 0,
 "worksheets": [
  {
   "cells": [
    {
     "cell_type": "code",
     "collapsed": false,
     "input": [
      "### Task is to extract data into numpy object \n",
      "## Then use this object for some analysis\n",
      "\n",
      "from numpy  import *\n",
      "a = arange(10).reshape(2,5)\n",
      "print a\n",
      "#print a[:,2]\n",
      "#print a[3,:]\n",
      "d = a.copy()\n",
      "#e = a.view()\n",
      "f = a\n",
      "d[0,0] = 44\n",
      "a[0,0] = 33\n",
      "#e[0,0] = 11 \n",
      "print a\n",
      "print d\n",
      "# print e\n",
      "print f\n",
      "print a"
     ],
     "language": "python",
     "metadata": {},
     "outputs": [
      {
       "output_type": "stream",
       "stream": "stdout",
       "text": [
        "[[0 1 2 3 4]\n",
        " [5 6 7 8 9]]\n",
        "[[33  1  2  3  4]\n",
        " [ 5  6  7  8  9]]\n",
        "[[44  1  2  3  4]\n",
        " [ 5  6  7  8  9]]\n",
        "[[33  1  2  3  4]\n",
        " [ 5  6  7  8  9]]\n",
        "[[33  1  2  3  4]\n",
        " [ 5  6  7  8  9]]\n"
       ]
      }
     ],
     "prompt_number": 20
    },
    {
     "cell_type": "code",
     "collapsed": false,
     "input": [
      "## .csv into numpy\n",
      "\n",
      "from sklearn.ensemble import RandomForestClassifier\n",
      "from numpy import genfromtxt, savetxt\n",
      "import os\n",
      "#import pandas as pd\n",
      "from sklearn.preprocessing import Imputer\n",
      "\n",
      "#os.path.dirname(os.path.realpath(__file__))\n",
      "os.getcwd()\n",
      "\n",
      "d = genfromtxt(open('ML_dataset.csv','r'), delimiter=',', dtype='f8')[1:]  \n",
      "myData = genfromtxt(open('ML_dataset.csv','r'), delimiter=',',names=True)[1:]\n",
      "\n",
      "print myData.dtype.names\n",
      "\n",
      "print myData.shape\n",
      "\n",
      "print d.shape\n",
      "#myData[[1:10],[1:10]]\n",
      "\n",
      "# Read column header\n",
      "\n",
      "colnames = myData.dtype.names\n",
      "\n",
      "# How many rows and columns? .shape\n",
      "\n",
      "## Prepare inputs and outputs \n",
      "\n",
      "# Create array of classifier methods from scipy and try \n",
      "\n",
      "# Run analysis & validate output\n",
      "\n"
     ],
     "language": "python",
     "metadata": {},
     "outputs": [
      {
       "output_type": "stream",
       "stream": "stdout",
       "text": [
        "('Focus', 'Productive', 'ID', 'Cluster', 'Base_location', 'Gender', 'ToD', 'DoW', 'Alcohol', 'BMI', 'Age', 'Current_task', 'White_noise', 'Window_distance', 'CO2', 'Sound', 'Pressure', 'Relative_humidity', 'Temperature', 'SDNN', 'Room_type', 'nHF', 'space', 'Valence', 'Arousal', 'Ethnicity', 'SDNN_d', 'nHF_d', 'happy', 'LFHF', 'tired', 'alert')\n",
        "(36144L,)\n",
        "(36145L, 32L)\n"
       ]
      }
     ],
     "prompt_number": 47
    },
    {
     "cell_type": "code",
     "collapsed": false,
     "input": [
      "print myData.dtype.names\n",
      "\n",
      "print myData.shape\n"
     ],
     "language": "python",
     "metadata": {},
     "outputs": [
      {
       "output_type": "stream",
       "stream": "stdout",
       "text": [
        "('Focus', 'Productive', 'ID', 'Cluster', 'Base_location', 'Gender', 'ToD', 'DoW', 'Alcohol', 'BMI', 'Age', 'Current_task', 'White_noise', 'Window_distance', 'CO2', 'Sound', 'Pressure', 'Relative_humidity', 'Temperature', 'SDNN', 'Room_type', 'nHF', 'space', 'Valence', 'Arousal', 'Ethnicity', 'SDNN_d', 'nHF_d', 'happy', 'LFHF', 'tired', 'alert')\n",
        "(36144L,)\n"
       ]
      }
     ],
     "prompt_number": 48
    },
    {
     "cell_type": "code",
     "collapsed": false,
     "input": [
      "d.shape"
     ],
     "language": "python",
     "metadata": {},
     "outputs": [
      {
       "metadata": {},
       "output_type": "pyout",
       "prompt_number": 57,
       "text": [
        "(36145L, 32L)"
       ]
      }
     ],
     "prompt_number": 57
    },
    {
     "cell_type": "code",
     "collapsed": false,
     "input": [
      "myD = genfromtxt(open('ML_dataset.csv','r'), delimiter=',',names=True)[1:]\n",
      "print myD.shape\n",
      "print myD.dtype.names"
     ],
     "language": "python",
     "metadata": {},
     "outputs": [
      {
       "output_type": "stream",
       "stream": "stdout",
       "text": [
        "(36144L,)\n",
        "('Focus', 'Productive', 'ID', 'Cluster', 'Base_location', 'Gender', 'ToD', 'DoW', 'Alcohol', 'BMI', 'Age', 'Current_task', 'White_noise', 'Window_distance', 'CO2', 'Sound', 'Pressure', 'Relative_humidity', 'Temperature', 'SDNN', 'Room_type', 'nHF', 'space', 'Valence', 'Arousal', 'Ethnicity', 'SDNN_d', 'nHF_d', 'happy', 'LFHF', 'tired', 'alert')\n"
       ]
      }
     ],
     "prompt_number": 65
    },
    {
     "cell_type": "code",
     "collapsed": false,
     "input": [
      "myD[1:5]"
     ],
     "language": "python",
     "metadata": {},
     "outputs": [
      {
       "metadata": {},
       "output_type": "pyout",
       "prompt_number": 66,
       "text": [
        "array([ (2.0, 3.0, 101.0, 4400.0, 4400.0, nan, nan, nan, 2.0, nan, nan, nan, nan, 50.0, 0.0, 0.0, 0.0, 0.0, nan, 71.0, nan, 3.6, nan, -0.14, 0.83, nan, nan, nan, 7.0, 6.6, 3.0, 6.0),\n",
        "       (2.0, 3.0, 101.0, 4400.0, 4400.0, nan, nan, nan, 2.0, nan, nan, nan, nan, 50.0, 0.0, 0.0, 0.0, 0.0, nan, 68.53, nan, 3.83, nan, -0.14, 0.83, nan, nan, nan, 7.0, 6.46, 3.0, 6.0),\n",
        "       (2.0, 3.0, 101.0, 4400.0, 4400.0, nan, nan, nan, 2.0, nan, nan, nan, nan, 50.0, 0.0, 0.0, 0.0, 0.0, nan, 70.71, nan, 4.03, nan, -0.14, 0.83, nan, nan, nan, 7.0, 6.65, 3.0, 6.0),\n",
        "       (2.0, 3.0, 101.0, 4400.0, 4400.0, nan, nan, nan, 2.0, nan, nan, nan, nan, 50.0, 0.0, 0.0, 0.0, 0.0, nan, 66.2, nan, 3.59, nan, -0.14, 0.83, nan, nan, nan, 7.0, 7.15, 3.0, 6.0)], \n",
        "      dtype=[('Focus', '<f8'), ('Productive', '<f8'), ('ID', '<f8'), ('Cluster', '<f8'), ('Base_location', '<f8'), ('Gender', '<f8'), ('ToD', '<f8'), ('DoW', '<f8'), ('Alcohol', '<f8'), ('BMI', '<f8'), ('Age', '<f8'), ('Current_task', '<f8'), ('White_noise', '<f8'), ('Window_distance', '<f8'), ('CO2', '<f8'), ('Sound', '<f8'), ('Pressure', '<f8'), ('Relative_humidity', '<f8'), ('Temperature', '<f8'), ('SDNN', '<f8'), ('Room_type', '<f8'), ('nHF', '<f8'), ('space', '<f8'), ('Valence', '<f8'), ('Arousal', '<f8'), ('Ethnicity', '<f8'), ('SDNN_d', '<f8'), ('nHF_d', '<f8'), ('happy', '<f8'), ('LFHF', '<f8'), ('tired', '<f8'), ('alert', '<f8')])"
       ]
      }
     ],
     "prompt_number": 66
    },
    {
     "cell_type": "markdown",
     "metadata": {},
     "source": []
    },
    {
     "cell_type": "code",
     "collapsed": false,
     "input": [
      "fourcol = genfromtxt(open('ML_dataset.csv','r'), delimiter=',',names=True)[1:]\n",
      "print myD.shape\n",
      "print myD.dtype.names"
     ],
     "language": "python",
     "metadata": {},
     "outputs": []
    },
    {
     "cell_type": "code",
     "collapsed": false,
     "input": [
      "a = arange(5)**2                         \n",
      "i = array( [ 1,1,3,4] )     "
     ],
     "language": "python",
     "metadata": {},
     "outputs": [],
     "prompt_number": 72
    },
    {
     "cell_type": "code",
     "collapsed": false,
     "input": [
      "a[i]"
     ],
     "language": "python",
     "metadata": {},
     "outputs": [
      {
       "metadata": {},
       "output_type": "pyout",
       "prompt_number": 73,
       "text": [
        "array([ 1,  1,  9, 16])"
       ]
      }
     ],
     "prompt_number": 73
    },
    {
     "cell_type": "code",
     "collapsed": false,
     "input": [
      "a[range(0,5)]"
     ],
     "language": "python",
     "metadata": {},
     "outputs": [
      {
       "metadata": {},
       "output_type": "pyout",
       "prompt_number": 86,
       "text": [
        "array([ 0,  1,  4,  9, 16])"
       ]
      }
     ],
     "prompt_number": 86
    },
    {
     "cell_type": "code",
     "collapsed": false,
     "input": [
      "a[[i] for i from 1:4]"
     ],
     "language": "python",
     "metadata": {},
     "outputs": [
      {
       "ename": "SyntaxError",
       "evalue": "invalid syntax (<ipython-input-77-1bb4e9e75e2b>, line 1)",
       "output_type": "pyerr",
       "traceback": [
        "\u001b[1;36m  File \u001b[1;32m\"<ipython-input-77-1bb4e9e75e2b>\"\u001b[1;36m, line \u001b[1;32m1\u001b[0m\n\u001b[1;33m    a[[i] for i from 1:4]\u001b[0m\n\u001b[1;37m            ^\u001b[0m\n\u001b[1;31mSyntaxError\u001b[0m\u001b[1;31m:\u001b[0m invalid syntax\n"
       ]
      }
     ],
     "prompt_number": 77
    },
    {
     "cell_type": "code",
     "collapsed": false,
     "input": [
      "concatenate((a,a))"
     ],
     "language": "python",
     "metadata": {},
     "outputs": [
      {
       "metadata": {},
       "output_type": "pyout",
       "prompt_number": 78,
       "text": [
        "array([ 0,  1,  4,  9, 16,  0,  1,  4,  9, 16])"
       ]
      }
     ],
     "prompt_number": 78
    },
    {
     "cell_type": "code",
     "collapsed": false,
     "input": [
      "d[range(0,10),range(0,10)]"
     ],
     "language": "python",
     "metadata": {},
     "outputs": [
      {
       "metadata": {},
       "output_type": "pyout",
       "prompt_number": 88,
       "text": [
        "array([  2.00000000e+00,   3.00000000e+00,   1.01000000e+02,\n",
        "         4.40000000e+03,   4.40000000e+03,              nan,\n",
        "                    nan,              nan,   2.00000000e+00,\n",
        "                    nan])"
       ]
      }
     ],
     "prompt_number": 88
    },
    {
     "cell_type": "code",
     "collapsed": false,
     "input": [
      "a"
     ],
     "language": "python",
     "metadata": {},
     "outputs": [
      {
       "metadata": {},
       "output_type": "pyout",
       "prompt_number": 85,
       "text": [
        "array([ 0,  1,  4,  9, 16])"
       ]
      }
     ],
     "prompt_number": 85
    },
    {
     "cell_type": "code",
     "collapsed": false,
     "input": [
      "from numpy import * \n",
      "import urllib\n",
      "import csv\n",
      "\n",
      "a = arange(10).reshape(2,5)\n",
      "print a\n",
      "print a[:,2]\n",
      "print a[1,:]\n",
      "d = a.copy()\n",
      "e = a.view()\n",
      "\n",
      "def read_data():\n",
      "    #url = \"https://raw.githubusercontent.com/kartucson/Python_practice/master/Classification_dataset.csv\"\n",
      "    url = \"http://winterolympicsmedals.com/medals.csv\"\n",
      "    htmlfile = urllib.urlopen(url)\n",
      "    htmltext = htmlfile.read()\n",
      "    return htmltext\n",
      "    \n",
      "#myData = genfromtxt(open(htmltext,'r'), delimiter=',', dtype='f8')[1:]  \n",
      "def parse_contents(htmltext):\n",
      "    dataset = []\n",
      "    with htmltext as csvfile:\n",
      "        csv_lines = csv.reader(htmltext, delimiter=',')\n",
      "        for line in csv_lines:\n",
      "            dataset.append(line)\n",
      "        return array(dataset)\n",
      "\n",
      "#myData = loadtxt(htmltext).split(\",\")\n",
      "#htmltext = read_data()\n",
      "#myOutput, myData = parse_contents(htmltext)\n",
      "\n",
      "#print myData.dtype.names\n",
      "#print myData.shape\n",
      "#print myData[0:10,:]\n"
     ],
     "language": "python",
     "metadata": {},
     "outputs": []
    },
    {
     "cell_type": "code",
     "collapsed": false,
     "input": [],
     "language": "python",
     "metadata": {},
     "outputs": []
    }
   ],
   "metadata": {}
  }
 ]
}