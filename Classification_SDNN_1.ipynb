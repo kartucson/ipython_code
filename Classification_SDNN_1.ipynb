{
 "metadata": {
  "name": "",
  "signature": "sha256:f1105364e7507ef84c686811dd6979c13f833d45de08c54fdee8c519b50d74b2"
 },
 "nbformat": 3,
 "nbformat_minor": 0,
 "worksheets": [
  {
   "cells": [
    {
     "cell_type": "code",
     "collapsed": false,
     "input": [
      "## Import document using pandas\n",
      "## Take imputed data, subset data and original data and do cross validation with all the classifier\n",
      "##\n",
      "\n",
      "## Step 1: Import dataset - Fully imputed (break-up the problem into pieces!!)\n",
      "\n",
      "import numpy as np\n",
      "X = np.random.randint(5, size=(6, 100))\n",
      "y = np.array([1, 2, 3, 4, 5, 6])\n",
      "from sklearn.naive_bayes import MultinomialNB\n",
      "clf = MultinomialNB()\n",
      "clf.fit(X, y)\n",
      "MultinomialNB(alpha=1.0, class_prior=None, fit_prior=True)\n",
      "print X\n",
      "print y\n",
      "\n",
      "print X[2]\n",
      "\n",
      "print(clf.predict(X[2]))\n",
      "print(clf.predict(X[0]))\n",
      "print(clf.predict(X[1]))\n",
      "print(clf.predict(X[3]))\n",
      "print(clf.predict(X[4]))\n",
      "\n",
      "\n",
      "\n"
     ],
     "language": "python",
     "metadata": {},
     "outputs": [
      {
       "output_type": "stream",
       "stream": "stdout",
       "text": [
        "[[1 0 1 3 1 3 3 1 2 3 3 3 1 1 0 0 4 3 0 0 2 0 4 0 2 0 1 1 2 1 4 2 2 0 3 3 2\n",
        "  4 3 2 4 4 4 0 1 1 4 3 0 3 3 0 4 2 1 2 2 2 0 3 0 3 1 0 0 0 1 1 0 2 4 1 2 1\n",
        "  4 4 0 0 2 2 0 2 4 4 1 1 2 0 2 0 3 1 1 0 2 4 0 3 1 1]\n",
        " [2 1 0 0 3 1 2 1 2 3 1 0 3 1 3 3 1 3 4 3 4 3 4 1 3 3 2 2 3 3 0 2 0 3 1 3 4\n",
        "  4 2 1 1 1 2 1 1 1 1 3 4 3 1 3 1 3 2 2 0 1 0 1 3 1 4 3 3 2 3 2 2 2 3 1 0 1\n",
        "  2 3 4 4 1 0 4 2 3 0 3 1 3 3 2 0 3 4 4 3 1 0 4 0 0 3]\n",
        " [4 2 0 2 3 1 3 0 4 2 4 1 3 3 3 4 4 4 2 0 1 0 3 0 0 2 2 0 2 2 2 0 3 3 3 3 0\n",
        "  0 3 4 0 1 2 2 2 1 3 0 3 2 3 3 1 4 4 1 3 3 2 0 3 4 1 4 3 4 4 1 1 1 2 3 1 4\n",
        "  0 4 0 0 0 2 0 0 1 2 0 0 0 3 2 3 1 4 4 4 1 3 1 4 2 2]\n",
        " [4 1 4 1 2 1 4 3 0 3 2 0 3 3 4 3 1 4 3 1 3 4 3 2 1 3 4 4 1 4 3 3 4 0 2 2 1\n",
        "  3 4 1 2 1 4 2 1 3 3 0 3 4 0 1 1 3 3 4 1 0 0 0 1 4 3 2 4 0 1 1 1 4 0 1 2 0\n",
        "  1 3 4 2 1 2 4 3 0 0 2 3 0 4 2 0 2 1 3 2 3 1 1 4 4 0]\n",
        " [3 1 3 3 2 3 4 3 0 1 2 3 3 4 0 2 4 0 0 3 2 4 4 2 1 0 2 2 4 1 3 0 2 1 4 1 0\n",
        "  2 4 4 3 1 0 1 0 4 4 4 1 0 3 1 3 3 2 1 1 4 2 3 4 4 2 1 0 1 3 2 1 3 3 0 3 1\n",
        "  0 2 3 2 1 0 1 1 2 2 3 0 3 3 1 2 4 2 4 0 4 2 2 1 0 3]\n",
        " [3 0 0 2 2 3 2 2 3 4 3 4 3 3 4 0 1 2 0 2 3 2 0 2 3 2 0 3 0 3 1 1 0 4 1 3 3\n",
        "  4 4 3 1 2 0 2 3 4 0 0 0 3 1 0 3 4 0 4 3 0 3 2 1 0 0 2 3 0 1 2 3 2 0 1 1 3\n",
        "  3 2 1 0 2 2 0 2 1 4 0 1 2 2 3 1 1 0 3 0 2 1 2 3 4 2]]\n",
        "[1 2 3 4 5 6]\n",
        "[4 2 0 2 3 1 3 0 4 2 4 1 3 3 3 4 4 4 2 0 1 0 3 0 0 2 2 0 2 2 2 0 3 3 3 3 0\n",
        " 0 3 4 0 1 2 2 2 1 3 0 3 2 3 3 1 4 4 1 3 3 2 0 3 4 1 4 3 4 4 1 1 1 2 3 1 4\n",
        " 0 4 0 0 0 2 0 0 1 2 0 0 0 3 2 3 1 4 4 4 1 3 1 4 2 2]\n",
        "[3]\n",
        "[1]\n",
        "[2]\n",
        "[4]\n",
        "[5]\n"
       ]
      }
     ],
     "prompt_number": 9
    },
    {
     "cell_type": "code",
     "collapsed": false,
     "input": [
      "X = np.random.randint(100, size=(6, 10))\n",
      "print X"
     ],
     "language": "python",
     "metadata": {},
     "outputs": [
      {
       "output_type": "stream",
       "stream": "stdout",
       "text": [
        "[[ 3 91  7 28 37 28 26 91 96  2]\n",
        " [80 41 65 31 23 49 24 30  0 14]\n",
        " [35 24 18 29 70 72 13 45 48 94]\n",
        " [94 83 34  5  8 53 44 11 98 45]\n",
        " [25 60 56 73 44  2 20 68 94 95]\n",
        " [31 90 91 86 76 44 93 19 13 69]]\n"
       ]
      }
     ],
     "prompt_number": 8
    },
    {
     "cell_type": "code",
     "collapsed": false,
     "input": [
      "from sklearn.ensemble import RandomForestClassifier\n",
      "from numpy import genfromtxt, savetxt\n",
      "import os\n",
      "import pandas as pd\n",
      "from sklearn.preprocessing import Imputer\n",
      "\n",
      "os.chdir('G:/Insite_2/WB2_july/Integration_analysis/ML') \n",
      "\n",
      "def main():\n",
      "    df = pd.read_csv('ML_dataset_SDNN.csv')\n",
      "    # dataset = genfromtxt(open('ML_dataset_SDNN.csv','r'), delimiter=',', dtype='f8')[1:]   \n",
      "    #df = pd.DataFrame(dataset)   \n",
      "    #df.fillna('missing')\n",
      "    #sklearn.preprocessing.Imputer(missing_values='NaN', strategy='mean', axis=0, verbose=0, copy=True)    \n",
      "    #target = [x[0] for x in dataset]\n",
      "    #target = df[:,1]\n",
      "    #train = [x[1:] for x in dataset]\n",
      "    #test = genfromtxt(open('Data/test.csv','r'), delimiter=',', dtype='f8')[1:]\n",
      "    \n",
      "    #create and train the random forest\n",
      "    #multi-core CPUs can use: rf = RandomForestClassifier(n_estimators=100, n_jobs=2)\n",
      "    rf = RandomForestClassifier(n_estimators=100)\n",
      "    rf.fit(train, target)\n",
      "\n",
      "    #savetxt('Data/submission2.csv', rf.predict(test), delimiter=',', fmt='%f')\n",
      "\n",
      "if __name__==\"__main__\":\n",
      "    main()"
     ],
     "language": "python",
     "metadata": {},
     "outputs": []
    },
    {
     "cell_type": "code",
     "collapsed": false,
     "input": [
      "from sklearn.ensemble import RandomForestClassifier\n",
      "import os\n",
      "import pandas as pd\n",
      "\n",
      "df = pd.read_csv('../Classification_dataset.csv')\n",
      "df.head()   # Top 10 rows of the dataset in pandas dataframe format\n",
      "df.shape    ## Number of rows and columns of the dataset\n",
      "\n",
      "print \"List of columns in complete dataframe are: \\n\" ,df.dtypes ## List of column names of the dataframe along with datatype\n",
      "\n",
      "cate_var = df.select_dtypes(['object'])\n",
      "num_var = df.select_dtypes(['float64'])\n",
      "\n",
      "print \"List of categorical attributes: \\n\" ,cate_var.dtypes\n",
      "print \"List of numerical attributes: \\n\" ,num_var.dtypes\n",
      "print \"Output variable name is: \\n\" ,output_var.name\n",
      "\n",
      "\n",
      "cate_in = cate_var.drop('Outcome',axis=1)\n",
      "output_var = cate_var.ix[:,-1]\n",
      "\n",
      "print df.count(axis=0, level=None, numeric_only=False)\n",
      "\n",
      "## Since some columns have low non-missing values, we drop them:\n",
      "df = df.drop(['White_noise','Room_type','Window_distance'],axis=1)\n",
      "\n",
      "#a = df.fillna('Mean')\n",
      "#print a.head()\n",
      "\n",
      "print df.count(axis=0, level=None, numeric_only=False)\n",
      "\n",
      "#print a.iloc[:10,:2]\n",
      "\n",
      "num_var = num_var.fillna(num_var.mean())\n",
      "print num_var.count(axis=0, level=None, numeric_only=False)\n",
      "#print b[1:100,]\n",
      "\n",
      "#c = cate_in.fillna('Missing_data')\n",
      "#print c[:100,:2]\n",
      "\n",
      "#print c.count(axis=0, level=None, numeric_only=False)\n",
      "\n"
     ],
     "language": "python",
     "metadata": {},
     "outputs": [
      {
       "output_type": "stream",
       "stream": "stdout",
       "text": [
        "List of columns in complete dataframe are: \n",
        "Location              object\n",
        "Gender                object\n",
        "ToD                   object\n",
        "DoW                   object\n",
        "Alcohol              float64\n",
        "BMI                   object\n",
        "Age                   object\n",
        "Current_task          object\n",
        "White_noise           object\n",
        "Window_distance      float64\n",
        "CO2                  float64\n",
        "Sound                float64\n",
        "Pressure             float64\n",
        "Relative_humidity    float64\n",
        "Temperature           object\n",
        "Room_type             object\n",
        "Ethnicity             object\n",
        "Outcome               object\n",
        "dtype: object\n",
        "List of categorical attributes: \n",
        "Location        object\n",
        "Gender          object\n",
        "ToD             object\n",
        "DoW             object\n",
        "BMI             object\n",
        "Age             object\n",
        "Current_task    object\n",
        "White_noise     object\n",
        "Temperature     object\n",
        "Room_type       object\n",
        "Ethnicity       object\n",
        "Outcome         object\n",
        "dtype: object\n",
        "List of numerical attributes: \n",
        "Alcohol              float64\n",
        "Window_distance      float64\n",
        "CO2                  float64\n",
        "Sound                float64\n",
        "Pressure             float64\n",
        "Relative_humidity    float64\n",
        "dtype: object\n",
        "Output variable name is: \n",
        "Outcome\n",
        "Location             36145\n",
        "Gender               33001\n",
        "ToD                  36145\n",
        "DoW                  36145\n",
        "Alcohol              32597\n",
        "BMI                  32597\n",
        "Age                  30590\n",
        "Current_task         12937\n",
        "White_noise           7611\n",
        "Window_distance       4309\n",
        "CO2                  36145\n",
        "Sound                36145\n",
        "Pressure             36145\n",
        "Relative_humidity    36145\n",
        "Temperature          29211\n",
        "Room_type             5038\n",
        "Ethnicity            32597\n",
        "Outcome              36145\n",
        "dtype: int64"
       ]
      },
      {
       "output_type": "stream",
       "stream": "stdout",
       "text": [
        "\n",
        "Location             36145\n",
        "Gender               33001\n",
        "ToD                  36145\n",
        "DoW                  36145\n",
        "Alcohol              32597\n",
        "BMI                  32597\n",
        "Age                  30590\n",
        "Current_task         12937\n",
        "CO2                  36145\n",
        "Sound                36145\n",
        "Pressure             36145\n",
        "Relative_humidity    36145\n",
        "Temperature          29211\n",
        "Ethnicity            32597\n",
        "Outcome              36145\n",
        "dtype: int64"
       ]
      },
      {
       "output_type": "stream",
       "stream": "stdout",
       "text": [
        "\n",
        "Alcohol              36145\n",
        "Window_distance      36145\n",
        "CO2                  36145\n",
        "Sound                36145\n",
        "Pressure             36145\n",
        "Relative_humidity    36145\n",
        "dtype: int64\n"
       ]
      }
     ],
     "prompt_number": 126
    },
    {
     "cell_type": "code",
     "collapsed": false,
     "input": [
      "temp = pd.read_csv('https://raw.githubusercontent.com/kartucson/Python_practice/master/Classification_dataset.csv')\n",
      "temp.head()"
     ],
     "language": "python",
     "metadata": {},
     "outputs": [
      {
       "html": [
        "<div style=\"max-height:1000px;max-width:1500px;overflow:auto;\">\n",
        "<table border=\"1\" class=\"dataframe\">\n",
        "  <thead>\n",
        "    <tr style=\"text-align: right;\">\n",
        "      <th></th>\n",
        "      <th>Condition</th>\n",
        "      <th>Base_location</th>\n",
        "      <th>Gender</th>\n",
        "      <th>ToD</th>\n",
        "      <th>DoW</th>\n",
        "      <th>Alcohol</th>\n",
        "      <th>BMI</th>\n",
        "      <th>Age</th>\n",
        "      <th>Current_task</th>\n",
        "      <th>White_noise</th>\n",
        "      <th>Window_distance</th>\n",
        "      <th>CO2</th>\n",
        "      <th>Sound</th>\n",
        "      <th>Pressure</th>\n",
        "      <th>Relative_humidity</th>\n",
        "      <th>Temperature</th>\n",
        "      <th>Room_type</th>\n",
        "      <th>Ethnicity</th>\n",
        "    </tr>\n",
        "  </thead>\n",
        "  <tbody>\n",
        "    <tr>\n",
        "      <th>0</th>\n",
        "      <td> Stress</td>\n",
        "      <td> New</td>\n",
        "      <td> Female</td>\n",
        "      <td> Morning</td>\n",
        "      <td> Tuesday</td>\n",
        "      <td> 2</td>\n",
        "      <td> normal</td>\n",
        "      <td> twenties</td>\n",
        "      <td> Working alone</td>\n",
        "      <td> YES</td>\n",
        "      <td> 50</td>\n",
        "      <td> 0</td>\n",
        "      <td> 0</td>\n",
        "      <td> 0</td>\n",
        "      <td> 0</td>\n",
        "      <td> NaN</td>\n",
        "      <td> Conference</td>\n",
        "      <td> Hispanic</td>\n",
        "    </tr>\n",
        "    <tr>\n",
        "      <th>1</th>\n",
        "      <td> Stress</td>\n",
        "      <td> New</td>\n",
        "      <td> Female</td>\n",
        "      <td> Morning</td>\n",
        "      <td> Tuesday</td>\n",
        "      <td> 2</td>\n",
        "      <td> normal</td>\n",
        "      <td> twenties</td>\n",
        "      <td> Working alone</td>\n",
        "      <td> YES</td>\n",
        "      <td> 50</td>\n",
        "      <td> 0</td>\n",
        "      <td> 0</td>\n",
        "      <td> 0</td>\n",
        "      <td> 0</td>\n",
        "      <td> NaN</td>\n",
        "      <td> Conference</td>\n",
        "      <td> Hispanic</td>\n",
        "    </tr>\n",
        "    <tr>\n",
        "      <th>2</th>\n",
        "      <td> Stress</td>\n",
        "      <td> New</td>\n",
        "      <td> Female</td>\n",
        "      <td> Morning</td>\n",
        "      <td> Tuesday</td>\n",
        "      <td> 2</td>\n",
        "      <td> normal</td>\n",
        "      <td> twenties</td>\n",
        "      <td> Working alone</td>\n",
        "      <td> YES</td>\n",
        "      <td> 50</td>\n",
        "      <td> 0</td>\n",
        "      <td> 0</td>\n",
        "      <td> 0</td>\n",
        "      <td> 0</td>\n",
        "      <td> NaN</td>\n",
        "      <td> Conference</td>\n",
        "      <td> Hispanic</td>\n",
        "    </tr>\n",
        "    <tr>\n",
        "      <th>3</th>\n",
        "      <td> Stress</td>\n",
        "      <td> New</td>\n",
        "      <td> Female</td>\n",
        "      <td> Morning</td>\n",
        "      <td> Tuesday</td>\n",
        "      <td> 2</td>\n",
        "      <td> normal</td>\n",
        "      <td> twenties</td>\n",
        "      <td> Working alone</td>\n",
        "      <td> YES</td>\n",
        "      <td> 50</td>\n",
        "      <td> 0</td>\n",
        "      <td> 0</td>\n",
        "      <td> 0</td>\n",
        "      <td> 0</td>\n",
        "      <td> NaN</td>\n",
        "      <td> Conference</td>\n",
        "      <td> Hispanic</td>\n",
        "    </tr>\n",
        "    <tr>\n",
        "      <th>4</th>\n",
        "      <td> Stress</td>\n",
        "      <td> New</td>\n",
        "      <td> Female</td>\n",
        "      <td> Morning</td>\n",
        "      <td> Tuesday</td>\n",
        "      <td> 2</td>\n",
        "      <td> normal</td>\n",
        "      <td> twenties</td>\n",
        "      <td> Working alone</td>\n",
        "      <td> YES</td>\n",
        "      <td> 50</td>\n",
        "      <td> 0</td>\n",
        "      <td> 0</td>\n",
        "      <td> 0</td>\n",
        "      <td> 0</td>\n",
        "      <td> NaN</td>\n",
        "      <td> Conference</td>\n",
        "      <td> Hispanic</td>\n",
        "    </tr>\n",
        "  </tbody>\n",
        "</table>\n",
        "</div>"
       ],
       "metadata": {},
       "output_type": "pyout",
       "prompt_number": 102,
       "text": [
        "  Condition Base_location  Gender      ToD      DoW  Alcohol     BMI  \\\n",
        "0    Stress           New  Female  Morning  Tuesday        2  normal   \n",
        "1    Stress           New  Female  Morning  Tuesday        2  normal   \n",
        "2    Stress           New  Female  Morning  Tuesday        2  normal   \n",
        "3    Stress           New  Female  Morning  Tuesday        2  normal   \n",
        "4    Stress           New  Female  Morning  Tuesday        2  normal   \n",
        "\n",
        "        Age   Current_task White_noise  Window_distance  CO2  Sound  Pressure  \\\n",
        "0  twenties  Working alone         YES               50    0      0         0   \n",
        "1  twenties  Working alone         YES               50    0      0         0   \n",
        "2  twenties  Working alone         YES               50    0      0         0   \n",
        "3  twenties  Working alone         YES               50    0      0         0   \n",
        "4  twenties  Working alone         YES               50    0      0         0   \n",
        "\n",
        "   Relative_humidity Temperature   Room_type Ethnicity  \n",
        "0                  0         NaN  Conference  Hispanic  \n",
        "1                  0         NaN  Conference  Hispanic  \n",
        "2                  0         NaN  Conference  Hispanic  \n",
        "3                  0         NaN  Conference  Hispanic  \n",
        "4                  0         NaN  Conference  Hispanic  "
       ]
      }
     ],
     "prompt_number": 102
    },
    {
     "cell_type": "code",
     "collapsed": false,
     "input": [
      "s = pd.concat([cate_in,num_var],axis=1)\n",
      "print s.head()"
     ],
     "language": "python",
     "metadata": {},
     "outputs": [
      {
       "output_type": "stream",
       "stream": "stdout",
       "text": [
        "  Location  Gender      ToD      DoW     BMI       Age   Current_task  \\\n",
        "0     4400  Female  Morning  Tuesday  normal  twenties  Working alone   \n",
        "1     4400  Female  Morning  Tuesday  normal  twenties  Working alone   \n",
        "2     4400  Female  Morning  Tuesday  normal  twenties  Working alone   \n",
        "3     4400  Female  Morning  Tuesday  normal  twenties  Working alone   \n",
        "4     4400  Female  Morning  Tuesday  normal  twenties  Working alone   \n",
        "\n",
        "  White_noise Temperature   Room_type Ethnicity  Alcohol  Window_distance  \\\n",
        "0         YES         NaN  Conference  Hispanic        2               50   \n",
        "1         YES         NaN  Conference  Hispanic        2               50   \n",
        "2         YES         NaN  Conference  Hispanic        2               50   \n",
        "3         YES         NaN  Conference  Hispanic        2               50   \n",
        "4         YES         NaN  Conference  Hispanic        2               50   \n",
        "\n",
        "   CO2  Sound  Pressure  Relative_humidity  \n",
        "0    0      0         0                  0  \n",
        "1    0      0         0                  0  \n",
        "2    0      0         0                  0  \n",
        "3    0      0         0                  0  \n",
        "4    0      0         0                  0  \n"
       ]
      }
     ],
     "prompt_number": 72
    },
    {
     "cell_type": "code",
     "collapsed": false,
     "input": [
      "from sklearn.linear_model import LogisticRegression, Perceptron\n",
      "\n",
      "rf = RandomForestClassifier(n_estimators=100)\n",
      "input_var = pd.concat([cate_in,num_var],axis=1)\n",
      "model = Perceptron()\n",
      "#model.fit(input_var,output_var)\n",
      "\n",
      "\n",
      "#rf.fit(input_var, output_var)"
     ],
     "language": "python",
     "metadata": {},
     "outputs": [],
     "prompt_number": 108
    },
    {
     "cell_type": "code",
     "collapsed": false,
     "input": [
      "#\n",
      "import numpy as np\n",
      "\n",
      "#\n",
      "#num_var = np.round(num_var,2)           \n",
      "#\n",
      "num_var = num_var.fillna(num_var.mean())\n",
      "print(np.all(np.isfinite(num_var)))  \n",
      "print np.any(np.isnan(num_var)) \n",
      "\n",
      "model.fit(num_var,output_var)"
     ],
     "language": "python",
     "metadata": {},
     "outputs": [
      {
       "output_type": "stream",
       "stream": "stdout",
       "text": [
        "True\n",
        "False\n"
       ]
      },
      {
       "metadata": {},
       "output_type": "pyout",
       "prompt_number": 92,
       "text": [
        "Perceptron(alpha=0.0001, class_weight=None, eta0=1.0, fit_intercept=True,\n",
        "      n_iter=5, n_jobs=1, penalty=None, random_state=0, shuffle=True,\n",
        "      verbose=0, warm_start=False)"
       ]
      }
     ],
     "prompt_number": 92
    },
    {
     "cell_type": "code",
     "collapsed": false,
     "input": [
      "input_var = pd.concat([cate_in,num_var],axis=1)\n",
      "in2_var = input_var.drop('Ethnicity',axis=1)\n",
      "#model = Perceptron()\n",
      "model = MultinomialNB()\n",
      "#model.fit(in2_var,output_var)"
     ],
     "language": "python",
     "metadata": {},
     "outputs": [],
     "prompt_number": 107
    },
    {
     "cell_type": "code",
     "collapsed": false,
     "input": [
      "input_var = pd.concat([cate_in,num_var],axis=1)\n",
      "#in2_var = input_var.drop('Ethnicity',axis=1)\n",
      "model = Perceptron()\n",
      "#model.fit(cate_in,output_var)"
     ],
     "language": "python",
     "metadata": {},
     "outputs": [],
     "prompt_number": 104
    },
    {
     "cell_type": "code",
     "collapsed": false,
     "input": [
      "#print a.iloc[1:100]\n"
     ],
     "language": "python",
     "metadata": {},
     "outputs": [],
     "prompt_number": 105
    },
    {
     "cell_type": "code",
     "collapsed": false,
     "input": [
      "from sklearn import tree\n",
      "clf = tree.DecisionTreeClassifier()\n",
      "#clf = clf.fit(cate_in, output_var)\n"
     ],
     "language": "python",
     "metadata": {},
     "outputs": []
    },
    {
     "cell_type": "code",
     "collapsed": false,
     "input": [
      "### We convert all the categorical attributes to binary indicators using pandas function:\n",
      "\n",
      "var_names = list(cate_in.columns.values)\n",
      "\n",
      "categorical_ind_1 = pd.get_dummies(cate_in['Location'],prefix = 'Location')\n",
      "print categorical_ind_1.head(10)\n",
      "#print cate_in\n",
      "\n",
      "categorical_ind = []\n",
      "\n",
      "for i in range(0,(cate_in.shape[1])):\n",
      "    #categorical_ind[i] = pd.get_dummies(cate_in.ix[:,var_names[i]],prefix = var_names[i])\n",
      "    print pd.get_dummies(cate_in.ix[:,var_names[i]],prefix = var_names[i]).head()\n",
      "\n",
      "print categorical_ind[4].head()\n",
      "#for (len in range(1:len()))    "
     ],
     "language": "python",
     "metadata": {},
     "outputs": [
      {
       "output_type": "stream",
       "stream": "stdout",
       "text": [
        "   Location_4400  Location_G0  Location_ROB\n",
        "0              1            0             0\n",
        "1              1            0             0\n",
        "2              1            0             0\n",
        "3              1            0             0\n",
        "4              1            0             0\n",
        "5              1            0             0\n",
        "6              1            0             0\n",
        "7              1            0             0\n",
        "8              1            0             0\n",
        "9              1            0             0\n"
       ]
      },
      {
       "ename": "IndexError",
       "evalue": "list assignment index out of range",
       "output_type": "pyerr",
       "traceback": [
        "\u001b[1;31m---------------------------------------------------------------------------\u001b[0m\n\u001b[1;31mIndexError\u001b[0m                                Traceback (most recent call last)",
        "\u001b[1;32m<ipython-input-143-db3f542d39f7>\u001b[0m in \u001b[0;36m<module>\u001b[1;34m()\u001b[0m\n\u001b[0;32m     10\u001b[0m \u001b[1;33m\u001b[0m\u001b[0m\n\u001b[0;32m     11\u001b[0m \u001b[1;32mfor\u001b[0m \u001b[0mi\u001b[0m \u001b[1;32min\u001b[0m \u001b[0mrange\u001b[0m\u001b[1;33m(\u001b[0m\u001b[1;36m0\u001b[0m\u001b[1;33m,\u001b[0m\u001b[1;33m(\u001b[0m\u001b[0mcate_in\u001b[0m\u001b[1;33m.\u001b[0m\u001b[0mshape\u001b[0m\u001b[1;33m[\u001b[0m\u001b[1;36m1\u001b[0m\u001b[1;33m]\u001b[0m\u001b[1;33m-\u001b[0m\u001b[1;36m1\u001b[0m\u001b[1;33m)\u001b[0m\u001b[1;33m)\u001b[0m\u001b[1;33m:\u001b[0m\u001b[1;33m\u001b[0m\u001b[0m\n\u001b[1;32m---> 12\u001b[1;33m     \u001b[0mcategorical_ind\u001b[0m\u001b[1;33m[\u001b[0m\u001b[0mi\u001b[0m\u001b[1;33m]\u001b[0m \u001b[1;33m=\u001b[0m \u001b[0mpd\u001b[0m\u001b[1;33m.\u001b[0m\u001b[0mget_dummies\u001b[0m\u001b[1;33m(\u001b[0m\u001b[0mcate_in\u001b[0m\u001b[1;33m.\u001b[0m\u001b[0mix\u001b[0m\u001b[1;33m[\u001b[0m\u001b[1;33m:\u001b[0m\u001b[1;33m,\u001b[0m\u001b[0mvar_names\u001b[0m\u001b[1;33m[\u001b[0m\u001b[0mi\u001b[0m\u001b[1;33m]\u001b[0m\u001b[1;33m]\u001b[0m\u001b[1;33m,\u001b[0m\u001b[0mprefix\u001b[0m \u001b[1;33m=\u001b[0m \u001b[0mvar_names\u001b[0m\u001b[1;33m[\u001b[0m\u001b[0mi\u001b[0m\u001b[1;33m]\u001b[0m\u001b[1;33m)\u001b[0m\u001b[1;33m\u001b[0m\u001b[0m\n\u001b[0m\u001b[0;32m     13\u001b[0m \u001b[1;33m\u001b[0m\u001b[0m\n\u001b[0;32m     14\u001b[0m \u001b[1;32mprint\u001b[0m \u001b[0mcategorical_ind\u001b[0m\u001b[1;33m[\u001b[0m\u001b[1;36m4\u001b[0m\u001b[1;33m]\u001b[0m\u001b[1;33m.\u001b[0m\u001b[0mhead\u001b[0m\u001b[1;33m(\u001b[0m\u001b[1;33m)\u001b[0m\u001b[1;33m\u001b[0m\u001b[0m\n",
        "\u001b[1;31mIndexError\u001b[0m: list assignment index out of range"
       ]
      }
     ],
     "prompt_number": 143
    },
    {
     "cell_type": "code",
     "collapsed": false,
     "input": [
      "## Number of columns and rows\n",
      "print cate_in.shape[0]\n",
      "print cate_in.shape[1]"
     ],
     "language": "python",
     "metadata": {},
     "outputs": [
      {
       "output_type": "stream",
       "stream": "stdout",
       "text": [
        "36145\n",
        "11\n"
       ]
      }
     ],
     "prompt_number": 131
    },
    {
     "cell_type": "code",
     "collapsed": false,
     "input": [
      "range(0,(cate_in.shape[1]))"
     ],
     "language": "python",
     "metadata": {},
     "outputs": [
      {
       "metadata": {},
       "output_type": "pyout",
       "prompt_number": 144,
       "text": [
        "[0, 1, 2, 3, 4, 5, 6, 7, 8, 9]"
       ]
      }
     ],
     "prompt_number": 144
    },
    {
     "cell_type": "code",
     "collapsed": false,
     "input": [
      "categorical_ind = pd.DataFrame([])\n",
      "\n",
      "for i in range(0,(cate_in.shape[1])):\n",
      "    var_ind = pd.get_dummies(cate_in.ix[:,var_names[i]],prefix = var_names[i])\n",
      "    #categorical_ind[i] = pd.get_dummies(cate_in.ix[:,var_names[i]],prefix = var_names[i])\n",
      "    #categorical_ind.append(pd.get_dummies(cate_in.ix[:,var_names[i]],prefix = var_names[i]))\n",
      "    categorical_ind = pd.concat([categorical_ind,var_ind],axis=1)\n",
      "\n",
      "print categorical_ind.head() "
     ],
     "language": "python",
     "metadata": {},
     "outputs": [
      {
       "output_type": "stream",
       "stream": "stdout",
       "text": [
        "   Location_4400  Location_G0  Location_ROB  Gender_Female  Gender_Male  \\\n",
        "0              1            0             0              1            0   \n",
        "1              1            0             0              1            0   \n",
        "2              1            0             0              1            0   \n",
        "3              1            0             0              1            0   \n",
        "4              1            0             0              1            0   \n",
        "\n",
        "   ToD_Evening  ToD_Midday  ToD_Morning  DoW_Friday  DoW_Monday  \\\n",
        "0            0           0            1           0           0   \n",
        "1            0           0            1           0           0   \n",
        "2            0           0            1           0           0   \n",
        "3            0           0            1           0           0   \n",
        "4            0           0            1           0           0   \n",
        "\n",
        "        ...         Temperature_Ideal  Temperature_Warm  Room_type_Conference  \\\n",
        "0       ...                         0                 0                     1   \n",
        "1       ...                         0                 0                     1   \n",
        "2       ...                         0                 0                     1   \n",
        "3       ...                         0                 0                     1   \n",
        "4       ...                         0                 0                     1   \n",
        "\n",
        "   Room_type_Open spaces  Room_type_Other  Room_type_Work Station  \\\n",
        "0                      0                0                       0   \n",
        "1                      0                0                       0   \n",
        "2                      0                0                       0   \n",
        "3                      0                0                       0   \n",
        "4                      0                0                       0   \n",
        "\n",
        "   Ethnicity_AA  Ethnicity_Asian  Ethnicity_Hispanic  Ethnicity_White  \n",
        "0             0                0                   1                0  \n",
        "1             0                0                   1                0  \n",
        "2             0                0                   1                0  \n",
        "3             0                0                   1                0  \n",
        "4             0                0                   1                0  \n",
        "\n",
        "[5 rows x 43 columns]\n"
       ]
      }
     ],
     "prompt_number": 158
    },
    {
     "cell_type": "code",
     "collapsed": false,
     "input": [
      "d = pd.DataFrame(categorical_ind)\n",
      "d.head()"
     ],
     "language": "python",
     "metadata": {},
     "outputs": [
      {
       "html": [
        "<div style=\"max-height:1000px;max-width:1500px;overflow:auto;\">\n",
        "<table border=\"1\" class=\"dataframe\">\n",
        "  <thead>\n",
        "    <tr style=\"text-align: right;\">\n",
        "      <th></th>\n",
        "      <th>0</th>\n",
        "    </tr>\n",
        "  </thead>\n",
        "  <tbody>\n",
        "    <tr>\n",
        "      <th>0</th>\n",
        "      <td>        Location_4400  Location_G0  Location_RO...</td>\n",
        "    </tr>\n",
        "    <tr>\n",
        "      <th>1</th>\n",
        "      <td>        Gender_Female  Gender_Male\n",
        "0           ...</td>\n",
        "    </tr>\n",
        "    <tr>\n",
        "      <th>2</th>\n",
        "      <td>        ToD_Evening  ToD_Midday  ToD_Morning\n",
        "0 ...</td>\n",
        "    </tr>\n",
        "    <tr>\n",
        "      <th>3</th>\n",
        "      <td>        DoW_Friday  DoW_Monday  DoW_Thursday  D...</td>\n",
        "    </tr>\n",
        "    <tr>\n",
        "      <th>4</th>\n",
        "      <td>        BMI_normal  BMI_obese  BMI_overweight  ...</td>\n",
        "    </tr>\n",
        "  </tbody>\n",
        "</table>\n",
        "</div>"
       ],
       "metadata": {},
       "output_type": "pyout",
       "prompt_number": 155,
       "text": [
        "                                                   0\n",
        "0         Location_4400  Location_G0  Location_RO...\n",
        "1         Gender_Female  Gender_Male\n",
        "0           ...\n",
        "2         ToD_Evening  ToD_Midday  ToD_Morning\n",
        "0 ...\n",
        "3         DoW_Friday  DoW_Monday  DoW_Thursday  D...\n",
        "4         BMI_normal  BMI_obese  BMI_overweight  ..."
       ]
      }
     ],
     "prompt_number": 155
    },
    {
     "cell_type": "code",
     "collapsed": false,
     "input": [
      "print type(categorical_ind)"
     ],
     "language": "python",
     "metadata": {},
     "outputs": [
      {
       "output_type": "stream",
       "stream": "stdout",
       "text": [
        "<class 'pandas.core.frame.DataFrame'>\n"
       ]
      }
     ],
     "prompt_number": 159
    },
    {
     "cell_type": "code",
     "collapsed": false,
     "input": [
      "model = Perceptron()\n",
      "# model.fit(categorical_ind,output_var)\n",
      "\n",
      "from sklearn import tree\n",
      "clf = tree.DecisionTreeClassifier()\n",
      "clf.fit(categorical_ind,output_var)\n",
      "\n",
      "clf.fit(categorical_ind,output_var)"
     ],
     "language": "python",
     "metadata": {},
     "outputs": [
      {
       "metadata": {},
       "output_type": "pyout",
       "prompt_number": 162,
       "text": [
        "DecisionTreeClassifier(class_weight=None, criterion='gini', max_depth=None,\n",
        "            max_features=None, max_leaf_nodes=None, min_samples_leaf=1,\n",
        "            min_samples_split=2, min_weight_fraction_leaf=0.0,\n",
        "            random_state=None, splitter='best')"
       ]
      }
     ],
     "prompt_number": 162
    },
    {
     "cell_type": "code",
     "collapsed": false,
     "input": [
      "input_var = pd.concat([categorical_ind,num_var],axis=1)\n",
      "clf.fit(input_var,output_var)\n",
      "model.fit(input_var,output_var)"
     ],
     "language": "python",
     "metadata": {},
     "outputs": [
      {
       "metadata": {},
       "output_type": "pyout",
       "prompt_number": 163,
       "text": [
        "Perceptron(alpha=0.0001, class_weight=None, eta0=1.0, fit_intercept=True,\n",
        "      n_iter=5, n_jobs=1, penalty=None, random_state=0, shuffle=True,\n",
        "      verbose=0, warm_start=False)"
       ]
      }
     ],
     "prompt_number": 163
    },
    {
     "cell_type": "code",
     "collapsed": false,
     "input": [
      "## Now we need to check prediction accuracy for each model! - 10 fold cross validation \n",
      "\n",
      "# 10 folds\n",
      "\n",
      "# predict versus true values\n",
      "\n",
      "## Compare the numbers: (Metrics)\n",
      "\n"
     ],
     "language": "python",
     "metadata": {},
     "outputs": []
    },
    {
     "cell_type": "code",
     "collapsed": false,
     "input": [
      "import numpy as np\n",
      "from sklearn.cross_validation import KFold\n",
      "\n",
      "kf = KFold(input_var.shape[0], shuffle = True, n_folds=10)\n",
      "print kf\n",
      "for train, test in kf:\n",
      "    print(\"%s %s\" % (train, test))\n",
      "    \n",
      "    \n",
      "    "
     ],
     "language": "python",
     "metadata": {},
     "outputs": [
      {
       "output_type": "stream",
       "stream": "stdout",
       "text": [
        "sklearn.cross_validation.KFold(n=36145, n_folds=10, shuffle=True, random_state=None)\n",
        "[    1     2     3 ..., 36142 36143 36144] [    0    10    17 ..., 36097 36108 36136]\n",
        "[    0     2     3 ..., 36142 36143 36144] [    1     9    18 ..., 36124 36132 36137]\n",
        "[    0     1     3 ..., 36142 36143 36144] [    2     8    13 ..., 36127 36131 36141]\n",
        "[    0     1     2 ..., 36142 36143 36144] [    5    24    27 ..., 36122 36129 36138]\n",
        "[    0     1     2 ..., 36142 36143 36144] [    3     7    21 ..., 36118 36130 36139]\n",
        "[    0     1     2 ..., 36142 36143 36144] [    6    41    53 ..., 36123 36126 36134]\n",
        "[    0     1     2 ..., 36141 36143 36144] [   19    22    26 ..., 36133 36140 36142]\n",
        "[    0     1     2 ..., 36141 36142 36143] [   20    23    31 ..., 36125 36135 36144]\n",
        "[    0     1     2 ..., 36142 36143 36144] [    4    11    12 ..., 36096 36111 36128]\n",
        "[    0     1     2 ..., 36141 36142 36144] [   14    52    62 ..., 36110 36119 36143]\n"
       ]
      }
     ],
     "prompt_number": 177
    },
    {
     "cell_type": "code",
     "collapsed": false,
     "input": [
      "from sklearn.cross_validation import KFold\n",
      "\n",
      "#help(KFold)"
     ],
     "language": "python",
     "metadata": {},
     "outputs": [],
     "prompt_number": 178
    },
    {
     "cell_type": "code",
     "collapsed": false,
     "input": [
      "## Predicted versus actual values\n",
      "\n",
      "NN_model = model.fit(input_var,output_var)\n",
      "\n",
      "NN_pred = NN_model.predict(input_var)\n",
      "#print NN_pred[0:10]\n",
      "#print output_var[0:10]\n",
      "Accuracy_mat = pd.concat([NN_pred,output_var], axis=1)\n",
      "#NN_pred = pd.DataFrame(NN_pred)\n",
      "print Accuracy_mat.shape\n",
      "print Accuracy_mat.head(10)\n",
      "print Accuracy_mat.ix[1,:]\n",
      "print Accuracy_mat.ix[8,:]\n",
      "\n",
      "#Accuracy_count = []\n",
      "#for c in range(0,Accuracy_mat.shape[0]):\n",
      "#    Accuracy_count += Accuracy_count if Accuracy_mat[c,0] == Accuracy_mat[c,1]\n",
      "    "
     ],
     "language": "python",
     "metadata": {},
     "outputs": [
      {
       "ename": "NameError",
       "evalue": "name 'model' is not defined",
       "output_type": "pyerr",
       "traceback": [
        "\u001b[1;31m---------------------------------------------------------------------------\u001b[0m\n\u001b[1;31mNameError\u001b[0m                                 Traceback (most recent call last)",
        "\u001b[1;32m<ipython-input-1-c1590f000153>\u001b[0m in \u001b[0;36m<module>\u001b[1;34m()\u001b[0m\n\u001b[0;32m      1\u001b[0m \u001b[1;31m## Predicted versus actual values\u001b[0m\u001b[1;33m\u001b[0m\u001b[1;33m\u001b[0m\u001b[0m\n\u001b[0;32m      2\u001b[0m \u001b[1;33m\u001b[0m\u001b[0m\n\u001b[1;32m----> 3\u001b[1;33m \u001b[0mNN_model\u001b[0m \u001b[1;33m=\u001b[0m \u001b[0mmodel\u001b[0m\u001b[1;33m.\u001b[0m\u001b[0mfit\u001b[0m\u001b[1;33m(\u001b[0m\u001b[0minput_var\u001b[0m\u001b[1;33m,\u001b[0m\u001b[0moutput_var\u001b[0m\u001b[1;33m)\u001b[0m\u001b[1;33m\u001b[0m\u001b[0m\n\u001b[0m\u001b[0;32m      4\u001b[0m \u001b[1;33m\u001b[0m\u001b[0m\n\u001b[0;32m      5\u001b[0m \u001b[0mNN_pred\u001b[0m \u001b[1;33m=\u001b[0m \u001b[0mNN_model\u001b[0m\u001b[1;33m.\u001b[0m\u001b[0mpredict\u001b[0m\u001b[1;33m(\u001b[0m\u001b[0minput_var\u001b[0m\u001b[1;33m)\u001b[0m\u001b[1;33m\u001b[0m\u001b[0m\n",
        "\u001b[1;31mNameError\u001b[0m: name 'model' is not defined"
       ]
      }
     ],
     "prompt_number": 1
    },
    {
     "cell_type": "code",
     "collapsed": false,
     "input": [
      "\n",
      "from sklearn.ensemble import RandomForestClassifier\n",
      "import os\n",
      "import pandas as pd\n",
      "from sklearn.preprocessing import Imputer\n",
      "from sklearn.linear_model import LogisticRegression, Perceptron\n",
      "import numpy as np\n",
      "from sklearn import tree\n",
      "\n",
      "df = pd.read_csv('https://raw.githubusercontent.com/kartucson/Python_practice/master/Classification_dataset.csv')\n",
      "df.head()\n",
      "cate_var = df.select_dtypes(['object'])\n",
      "num_var = df.select_dtypes(['float64'])\n",
      "\n",
      "cate_in = cate_var.drop('Outcome',axis=1)\n",
      "output_var = cate_var.ix[:,-1]\n",
      "\n",
      "df = df.drop(['White_noise','Room_type','Window_distance'],axis=1)\n",
      "num_var = num_var.fillna(num_var.mean())\n",
      "\n",
      "#NB_model = MultinomialNB()\n",
      "#NN_model = Perceptron()\n",
      "model = Perceptron()\n",
      "clf = tree.DecisionTreeClassifier()\n",
      "\n",
      "categorical_ind = pd.DataFrame([])\n",
      "\n",
      "var_names = list(cate_in.columns.values)\n",
      "\n",
      "for i in range(0,(cate_in.shape[1])):\n",
      "    var_ind = pd.get_dummies(cate_in.ix[:,var_names[i]],prefix = var_names[i])\n",
      "    categorical_ind = pd.concat([categorical_ind,var_ind],axis=1)\n",
      "\n",
      "\n",
      "input_var = pd.concat([categorical_ind,num_var],axis=1)\n",
      "clf.fit(input_var,output_var)\n",
      "model.fit(input_var,output_var)\n",
      "\n",
      "NN_model = Perceptron().fit(input_var,output_var)\n",
      "\n",
      "NN_pred = NN_model.predict(input_var)\n",
      "\n",
      "NN_pred = pd.DataFrame(NN_pred)\n",
      "output_var = pd.DataFrame(output_var)\n",
      "\n",
      "Accuracy_mat = pd.concat([NN_pred,output_var], axis=1)\n",
      "\n",
      "Accuracy_mat.columns = ['Predicted', 'Actual']\n"
     ],
     "language": "python",
     "metadata": {},
     "outputs": [],
     "prompt_number": 1
    },
    {
     "cell_type": "code",
     "collapsed": false,
     "input": [
      "#Accuracy_mat.head(10)\n",
      "#Accuracy_mat.ix[10,1]\n",
      "\n",
      "Accuracy_count = 0\n",
      "for c in range(0,Accuracy_mat.shape[0]):\n",
      "    if Accuracy_mat.ix[c,0] == Accuracy_mat.ix[c,1]:\n",
      "        Accuracy_count += Accuracy_count\n",
      "\n",
      "print Accuracy_count        "
     ],
     "language": "python",
     "metadata": {},
     "outputs": [
      {
       "output_type": "stream",
       "stream": "stdout",
       "text": [
        "0\n"
       ]
      }
     ],
     "prompt_number": 17
    },
    {
     "cell_type": "code",
     "collapsed": false,
     "input": [
      "print type(Accuracy_count)"
     ],
     "language": "python",
     "metadata": {},
     "outputs": [
      {
       "output_type": "stream",
       "stream": "stdout",
       "text": [
        "<type 'int'>\n"
       ]
      }
     ],
     "prompt_number": 24
    },
    {
     "cell_type": "code",
     "collapsed": false,
     "input": [
      "len(range(0,Accuracy_mat.shape[0]))\n",
      "c=3\n",
      "print c"
     ],
     "language": "python",
     "metadata": {},
     "outputs": [
      {
       "output_type": "stream",
       "stream": "stdout",
       "text": [
        "3\n"
       ]
      }
     ],
     "prompt_number": 35
    },
    {
     "cell_type": "code",
     "collapsed": false,
     "input": [
      "predicted = Accuracy_mat.ix[c,0]\n",
      "actual = Accuracy_mat.ix[c,1]\n",
      "print(predicted)\n",
      "print(actual)\n",
      "predicted == actual\n",
      "if(predicted == actual):\n",
      "    print \"True\" \n",
      "else:\n",
      "    print \"False\""
     ],
     "language": "python",
     "metadata": {},
     "outputs": [
      {
       "output_type": "stream",
       "stream": "stdout",
       "text": [
        "Stress\n",
        "Stress\n",
        "True\n"
       ]
      }
     ],
     "prompt_number": 36
    },
    {
     "cell_type": "code",
     "collapsed": false,
     "input": [
      "#Total accuracy\n",
      "\n",
      "Accuracy_count = 0\n",
      "for c in range(0,Accuracy_mat.shape[0]):\n",
      "    predicted = Accuracy_mat.ix[c,0]\n",
      "    actual = Accuracy_mat.ix[c,1]\n",
      "    if(predicted == actual):\n",
      "        Accuracy_count = Accuracy_count + 1\n",
      "\n",
      "print Accuracy_count\n",
      "\n"
     ],
     "language": "python",
     "metadata": {},
     "outputs": [
      {
       "output_type": "stream",
       "stream": "stdout",
       "text": [
        "12150\n"
       ]
      }
     ],
     "prompt_number": 75
    },
    {
     "cell_type": "code",
     "collapsed": false,
     "input": [
      "print \"Accuracy is\", np.round(float(Accuracy_count)/float(Accuracy_mat.shape[0])*100,2), \"%\" "
     ],
     "language": "python",
     "metadata": {},
     "outputs": [
      {
       "output_type": "stream",
       "stream": "stdout",
       "text": [
        "Accuracy is 33.61 %\n"
       ]
      }
     ],
     "prompt_number": 85
    },
    {
     "cell_type": "code",
     "collapsed": false,
     "input": [
      "## Accuracy for each class\n",
      "Accuracy_count = 0\n",
      "Indicator = pd.DataFrame([])\n",
      "#Accuracy_mat[\"ind\"] = np.nan\n",
      "for c in range(0,Accuracy_mat.shape[0]):\n",
      "    predicted = Accuracy_mat.ix[c,0]\n",
      "    actual = Accuracy_mat.ix[c,1]\n",
      "    if(predicted == actual):\n",
      "        Indicator[c] = 1 \n",
      "        Accuracy_count = Accuracy_count + 1\n",
      "    else:\n",
      "        Indicator[c] = 0\n",
      "print Accuracy_count\n",
      "Accuracy_mat[\"ind\"] = Indicator"
     ],
     "language": "python",
     "metadata": {},
     "outputs": []
    },
    {
     "cell_type": "code",
     "collapsed": false,
     "input": [
      "temp = pd.add_prefix(Accuracy_cmat,prefix = Accuracy_mat.shape[1]) "
     ],
     "language": "python",
     "metadata": {},
     "outputs": []
    },
    {
     "cell_type": "code",
     "collapsed": false,
     "input": [
      "print Accuracy_mat.groupby(Accuracy_mat.shape[1])['ind'].mean()/Accuracy_mat.groupby(Accuracy_mat.shape[1]).count()*100"
     ],
     "language": "python",
     "metadata": {},
     "outputs": []
    },
    {
     "cell_type": "code",
     "collapsed": false,
     "input": [
      "\n",
      "\n",
      "def performance(label, prediction):\n",
      "    side_by_side = np.transpose(np.array([label.tolist(), prediction.tolist()]))\n",
      "    total = 0\n",
      "    correct = 0\n",
      "    total_per_class = {}\n",
      "    predicted_per_class = {}\n",
      "    correct_per_class = {}\n",
      "    counts_per_label = {}\n",
      "    for i in range(side_by_side.shape[0]):\n",
      "        gold = side_by_side[i,0]\n",
      "        pred = side_by_side[i,1]\n",
      "        total += 1\n",
      "        if(gold == pred):\n",
      "            correct += 1\n",
      "            correct_per_class[gold] = correct_per_class.get(gold, 0) + 1\n",
      "        total_per_class[gold] = total_per_class.get(gold, 0) + 1\n",
      "        predicted_per_class[pred] = predicted_per_class.get(pred, 0) + 1\n",
      "    acc = float(correct) / float(total)\n",
      "    for l in total_per_class.keys():\n",
      "        my_correct = correct_per_class.get(l, 0)\n",
      "        my_pred = predicted_per_class.get(l, 0.001)\n",
      "        my_total = total_per_class.get(l, 0.001)\n",
      "        p = float(my_correct) / float(my_pred)\n",
      "        r = float(my_correct) / float(my_total)\n",
      "        f1 = 0\n",
      "        if p != 0 and r != 0:\n",
      "            f1 = 2*p*r / (p + r)\n",
      "        # print \"Label\", l, \" => Precision:\", p, \"Recall:\", r, \"F1:\", f1\n",
      "        counts_per_label[l]=(p,r,f1) # precision, recall, f1\n",
      "    return acc, correct, total, counts_per_label"
     ],
     "language": "python",
     "metadata": {},
     "outputs": [],
     "prompt_number": 38
    },
    {
     "cell_type": "code",
     "collapsed": false,
     "input": [
      "output_var_n = np.array(output_var)\n",
      "NN_pred_n =  np.array(NN_pred)"
     ],
     "language": "python",
     "metadata": {},
     "outputs": [],
     "prompt_number": 40
    },
    {
     "cell_type": "code",
     "collapsed": false,
     "input": [
      "acc, correct, total, counts_per_label = performance(output_var_n, NN_pred_n)"
     ],
     "language": "python",
     "metadata": {},
     "outputs": [
      {
       "ename": "ValueError",
       "evalue": "The truth value of an array with more than one element is ambiguous. Use a.any() or a.all()",
       "output_type": "pyerr",
       "traceback": [
        "\u001b[1;31m---------------------------------------------------------------------------\u001b[0m\n\u001b[1;31mValueError\u001b[0m                                Traceback (most recent call last)",
        "\u001b[1;32m<ipython-input-41-66fd26b39d98>\u001b[0m in \u001b[0;36m<module>\u001b[1;34m()\u001b[0m\n\u001b[1;32m----> 1\u001b[1;33m \u001b[0macc\u001b[0m\u001b[1;33m,\u001b[0m \u001b[0mcorrect\u001b[0m\u001b[1;33m,\u001b[0m \u001b[0mtotal\u001b[0m\u001b[1;33m,\u001b[0m \u001b[0mcounts_per_label\u001b[0m \u001b[1;33m=\u001b[0m \u001b[0mperformance\u001b[0m\u001b[1;33m(\u001b[0m\u001b[0moutput_var_n\u001b[0m\u001b[1;33m,\u001b[0m \u001b[0mNN_pred_n\u001b[0m\u001b[1;33m)\u001b[0m\u001b[1;33m\u001b[0m\u001b[0m\n\u001b[0m",
        "\u001b[1;32m<ipython-input-38-5ad487a24c02>\u001b[0m in \u001b[0;36mperformance\u001b[1;34m(label, prediction)\u001b[0m\n\u001b[0;32m     11\u001b[0m         \u001b[0mpred\u001b[0m \u001b[1;33m=\u001b[0m \u001b[0mside_by_side\u001b[0m\u001b[1;33m[\u001b[0m\u001b[0mi\u001b[0m\u001b[1;33m,\u001b[0m\u001b[1;36m1\u001b[0m\u001b[1;33m]\u001b[0m\u001b[1;33m\u001b[0m\u001b[0m\n\u001b[0;32m     12\u001b[0m         \u001b[0mtotal\u001b[0m \u001b[1;33m+=\u001b[0m \u001b[1;36m1\u001b[0m\u001b[1;33m\u001b[0m\u001b[0m\n\u001b[1;32m---> 13\u001b[1;33m         \u001b[1;32mif\u001b[0m\u001b[1;33m(\u001b[0m\u001b[0mgold\u001b[0m \u001b[1;33m==\u001b[0m \u001b[0mpred\u001b[0m\u001b[1;33m)\u001b[0m\u001b[1;33m:\u001b[0m\u001b[1;33m\u001b[0m\u001b[0m\n\u001b[0m\u001b[0;32m     14\u001b[0m             \u001b[0mcorrect\u001b[0m \u001b[1;33m+=\u001b[0m \u001b[1;36m1\u001b[0m\u001b[1;33m\u001b[0m\u001b[0m\n\u001b[0;32m     15\u001b[0m             \u001b[0mcorrect_per_class\u001b[0m\u001b[1;33m[\u001b[0m\u001b[0mgold\u001b[0m\u001b[1;33m]\u001b[0m \u001b[1;33m=\u001b[0m \u001b[0mcorrect_per_class\u001b[0m\u001b[1;33m.\u001b[0m\u001b[0mget\u001b[0m\u001b[1;33m(\u001b[0m\u001b[0mgold\u001b[0m\u001b[1;33m,\u001b[0m \u001b[1;36m0\u001b[0m\u001b[1;33m)\u001b[0m \u001b[1;33m+\u001b[0m \u001b[1;36m1\u001b[0m\u001b[1;33m\u001b[0m\u001b[0m\n",
        "\u001b[1;31mValueError\u001b[0m: The truth value of an array with more than one element is ambiguous. Use a.any() or a.all()"
       ]
      }
     ],
     "prompt_number": 41
    },
    {
     "cell_type": "code",
     "collapsed": false,
     "input": [
      "print NN_pred_n.shape"
     ],
     "language": "python",
     "metadata": {},
     "outputs": [
      {
       "output_type": "stream",
       "stream": "stdout",
       "text": [
        "(36145L, 1L)\n"
       ]
      }
     ],
     "prompt_number": 44
    },
    {
     "cell_type": "code",
     "collapsed": false,
     "input": [
      "label, prediction = NN_pred_n, output_var_n\n",
      "Old_side_by_side = np.transpose(np.array([label.tolist(), prediction.tolist()]))\n",
      "side_by_side = np.array(Accuracy_mat)\n",
      "total = 0\n",
      "correct = 0\n",
      "total_per_class = {}\n",
      "predicted_per_class = {}\n",
      "correct_per_class = {}\n",
      "counts_per_label = {}\n"
     ],
     "language": "python",
     "metadata": {},
     "outputs": [],
     "prompt_number": 51
    },
    {
     "cell_type": "code",
     "collapsed": false,
     "input": [
      "print pd.DataFrame(side_by_side).head(10)"
     ],
     "language": "python",
     "metadata": {},
     "outputs": [
      {
       "output_type": "stream",
       "stream": "stdout",
       "text": [
        "        0           1\n",
        "0  Stress      Stress\n",
        "1  Stress      Stress\n",
        "2  Stress      Stress\n",
        "3  Stress      Stress\n",
        "4  Stress      Stress\n",
        "5  Stress      Stress\n",
        "6  Stress      Stress\n",
        "7  Stress  Low stress\n",
        "8  Stress  Low stress\n",
        "9  Stress  Low stress\n"
       ]
      }
     ],
     "prompt_number": 58
    },
    {
     "cell_type": "code",
     "collapsed": false,
     "input": [],
     "language": "python",
     "metadata": {},
     "outputs": []
    },
    {
     "cell_type": "code",
     "collapsed": false,
     "input": [
      "for i in range(10):\n",
      "    gold = side_by_side[i,0]\n",
      "    pred = side_by_side[i,1]\n",
      "    total += 1\n",
      "    print gold \n",
      "   # print pred"
     ],
     "language": "python",
     "metadata": {},
     "outputs": [
      {
       "output_type": "stream",
       "stream": "stdout",
       "text": [
        "Stress\n",
        "Stress\n",
        "Stress\n",
        "Stress\n",
        "Stress\n",
        "Stress\n",
        "Stress\n",
        "Stress\n",
        "Stress\n",
        "Stress\n"
       ]
      }
     ],
     "prompt_number": 60
    },
    {
     "cell_type": "code",
     "collapsed": false,
     "input": [
      "    if(gold == pred):\n",
      "        correct += 1\n",
      "        correct_per_class[gold] = correct_per_class.get(gold, 0) + 1\n",
      "    total_per_class[gold] = total_per_class.get(gold, 0) + 1\n",
      "    predicted_per_class[pred] = predicted_per_class.get(pred, 0) + 1"
     ],
     "language": "python",
     "metadata": {},
     "outputs": [],
     "prompt_number": 61
    },
    {
     "cell_type": "code",
     "collapsed": false,
     "input": [
      "print total_per_class"
     ],
     "language": "python",
     "metadata": {},
     "outputs": [
      {
       "output_type": "stream",
       "stream": "stdout",
       "text": [
        "{'Stress': 1}\n"
       ]
      }
     ],
     "prompt_number": 62
    },
    {
     "cell_type": "code",
     "collapsed": false,
     "input": [
      "print predicted_per_class"
     ],
     "language": "python",
     "metadata": {},
     "outputs": [
      {
       "output_type": "stream",
       "stream": "stdout",
       "text": [
        "{'Low stress': 1}\n"
       ]
      }
     ],
     "prompt_number": 63
    },
    {
     "cell_type": "code",
     "collapsed": false,
     "input": [
      "def performance(Accuracy_mat):\n",
      "    side_by_side = np.array(Accuracy_mat)\n",
      "    total = 0\n",
      "    correct = 0\n",
      "    total_per_class = {}\n",
      "    predicted_per_class = {}\n",
      "    correct_per_class = {}\n",
      "    counts_per_label = {}\n",
      "    for i in range(side_by_side.shape[0]):\n",
      "        gold = side_by_side[i,0]\n",
      "        pred = side_by_side[i,1]\n",
      "        total += 1\n",
      "        if(gold == pred):\n",
      "            correct += 1\n",
      "            correct_per_class[gold] = correct_per_class.get(gold, 0) + 1\n",
      "        total_per_class[gold] = total_per_class.get(gold, 0) + 1\n",
      "        predicted_per_class[pred] = predicted_per_class.get(pred, 0) + 1\n",
      "    acc = float(correct) / float(total)\n",
      "    for l in total_per_class.keys():\n",
      "        my_correct = correct_per_class.get(l, 0)\n",
      "        my_pred = predicted_per_class.get(l, 0.001)\n",
      "        my_total = total_per_class.get(l, 0.001)\n",
      "        p = float(my_correct) / float(my_pred)\n",
      "        r = float(my_correct) / float(my_total)\n",
      "        f1 = 0\n",
      "        if p != 0 and r != 0:\n",
      "            f1 = 2*p*r / (p + r)\n",
      "        # print \"Label\", l, \" => Precision:\", p, \"Recall:\", r, \"F1:\", f1\n",
      "        counts_per_label[l]=(p,r,f1) # precision, recall, f1\n",
      "    return acc, correct, total, counts_per_label"
     ],
     "language": "python",
     "metadata": {},
     "outputs": [],
     "prompt_number": 67
    },
    {
     "cell_type": "code",
     "collapsed": false,
     "input": [],
     "language": "python",
     "metadata": {},
     "outputs": []
    },
    {
     "cell_type": "code",
     "collapsed": false,
     "input": [
      "acc, correct, total, counts_per_label = performance(Accuracy_mat)"
     ],
     "language": "python",
     "metadata": {},
     "outputs": [],
     "prompt_number": 68
    },
    {
     "cell_type": "code",
     "collapsed": false,
     "input": [
      "print acc, correct, total, counts_per_label "
     ],
     "language": "python",
     "metadata": {},
     "outputs": [
      {
       "output_type": "stream",
       "stream": "stdout",
       "text": [
        "0.336146078296 12150 36145 {'Stress': (0.6642293311175738, 0.3323217626273124, 0.4430036021058465), 'High stress': (0.32910026560424965, 0.342016734236177, 0.3354342032908929), 'Low stress': (0.01583485325816614, 0.3843058350100604, 0.030416434429492795)}\n"
       ]
      }
     ],
     "prompt_number": 69
    },
    {
     "cell_type": "code",
     "collapsed": false,
     "input": [
      "Accuracy_mat.shape"
     ],
     "language": "python",
     "metadata": {},
     "outputs": [
      {
       "metadata": {},
       "output_type": "pyout",
       "prompt_number": 2,
       "text": [
        "(36145, 2)"
       ]
      }
     ],
     "prompt_number": 2
    },
    {
     "cell_type": "code",
     "collapsed": false,
     "input": [
      "Accuracy_mat.ix[1:10,['Predicted','Actual']]"
     ],
     "language": "python",
     "metadata": {},
     "outputs": [
      {
       "html": [
        "<div style=\"max-height:1000px;max-width:1500px;overflow:auto;\">\n",
        "<table border=\"1\" class=\"dataframe\">\n",
        "  <thead>\n",
        "    <tr style=\"text-align: right;\">\n",
        "      <th></th>\n",
        "      <th>Predicted</th>\n",
        "      <th>Actual</th>\n",
        "    </tr>\n",
        "  </thead>\n",
        "  <tbody>\n",
        "    <tr>\n",
        "      <th>1 </th>\n",
        "      <td> Stress</td>\n",
        "      <td>     Stress</td>\n",
        "    </tr>\n",
        "    <tr>\n",
        "      <th>2 </th>\n",
        "      <td> Stress</td>\n",
        "      <td>     Stress</td>\n",
        "    </tr>\n",
        "    <tr>\n",
        "      <th>3 </th>\n",
        "      <td> Stress</td>\n",
        "      <td>     Stress</td>\n",
        "    </tr>\n",
        "    <tr>\n",
        "      <th>4 </th>\n",
        "      <td> Stress</td>\n",
        "      <td>     Stress</td>\n",
        "    </tr>\n",
        "    <tr>\n",
        "      <th>5 </th>\n",
        "      <td> Stress</td>\n",
        "      <td>     Stress</td>\n",
        "    </tr>\n",
        "    <tr>\n",
        "      <th>6 </th>\n",
        "      <td> Stress</td>\n",
        "      <td>     Stress</td>\n",
        "    </tr>\n",
        "    <tr>\n",
        "      <th>7 </th>\n",
        "      <td> Stress</td>\n",
        "      <td> Low stress</td>\n",
        "    </tr>\n",
        "    <tr>\n",
        "      <th>8 </th>\n",
        "      <td> Stress</td>\n",
        "      <td> Low stress</td>\n",
        "    </tr>\n",
        "    <tr>\n",
        "      <th>9 </th>\n",
        "      <td> Stress</td>\n",
        "      <td> Low stress</td>\n",
        "    </tr>\n",
        "    <tr>\n",
        "      <th>10</th>\n",
        "      <td> Stress</td>\n",
        "      <td> Low stress</td>\n",
        "    </tr>\n",
        "  </tbody>\n",
        "</table>\n",
        "</div>"
       ],
       "metadata": {},
       "output_type": "pyout",
       "prompt_number": 9,
       "text": [
        "   Predicted      Actual\n",
        "1     Stress      Stress\n",
        "2     Stress      Stress\n",
        "3     Stress      Stress\n",
        "4     Stress      Stress\n",
        "5     Stress      Stress\n",
        "6     Stress      Stress\n",
        "7     Stress  Low stress\n",
        "8     Stress  Low stress\n",
        "9     Stress  Low stress\n",
        "10    Stress  Low stress"
       ]
      }
     ],
     "prompt_number": 9
    },
    {
     "cell_type": "code",
     "collapsed": false,
     "input": [
      "## Accuracy for each class\n",
      "Accuracy_count = 0\n",
      "#Indicator = pd.DataFrame([])\n",
      "Accuracy_mat['Indicator'] = np.nan"
     ],
     "language": "python",
     "metadata": {},
     "outputs": [],
     "prompt_number": 18
    },
    {
     "cell_type": "code",
     "collapsed": false,
     "input": [
      "print Accuracy_mat.ix[1:10,'Indicator']"
     ],
     "language": "python",
     "metadata": {},
     "outputs": [
      {
       "output_type": "stream",
       "stream": "stdout",
       "text": [
        "1    NaN\n",
        "2    NaN\n",
        "3    NaN\n",
        "4    NaN\n",
        "5    NaN\n",
        "6    NaN\n",
        "7    NaN\n",
        "8    NaN\n",
        "9    NaN\n",
        "10   NaN\n",
        "Name: Indicator, dtype: float64\n"
       ]
      }
     ],
     "prompt_number": 17
    },
    {
     "cell_type": "code",
     "collapsed": false,
     "input": [
      "import time\n",
      "start_time = time.time()\n",
      "\n",
      "for c in range(0,Accuracy_mat.shape[0]):\n",
      "    predicted = Accuracy_mat.ix[c,0]\n",
      "    actual = Accuracy_mat.ix[c,1]\n",
      "    if(predicted == actual):\n",
      "        Accuracy_mat.ix[c,'Indicator'] = 1 \n",
      "        #Accuracy_count = Accuracy_count + 1\n",
      "    else:\n",
      "        Accuracy_mat.ix[c,'Indicator'] = 0\n",
      "#print Accuracy_count\n",
      "#Accuracy_mat[\"ind\"] = Indicator\n",
      "print(\"--- %s seconds ---\" % (time.time() - start_time))\n",
      "print Accuracy_mat.ix[1:10,'Indicator']"
     ],
     "language": "python",
     "metadata": {},
     "outputs": [
      {
       "output_type": "stream",
       "stream": "stdout",
       "text": [
        "--- 1078.69899988 seconds ---\n",
        "1     1\n",
        "2     1\n",
        "3     1\n",
        "4     1\n",
        "5     1\n",
        "6     1\n",
        "7     0\n",
        "8     0\n",
        "9     0\n",
        "10    0\n",
        "Name: Indicator, dtype: float64\n"
       ]
      }
     ],
     "prompt_number": 19
    },
    {
     "cell_type": "code",
     "collapsed": false,
     "input": [
      "import time\n",
      "start_time = time.time()\n",
      "np_array = []\n",
      "\n",
      "for c in range(0,Accuracy_mat.shape[0]):\n",
      "    predicted = Accuracy_mat.ix[c,0]\n",
      "    actual = Accuracy_mat.ix[c,1]\n",
      "    if(predicted == actual):\n",
      "        np_array.append(1)\n",
      "        #Accuracy_mat.ix[c,'Indicator'] = 1 \n",
      "        #Accuracy_count = Accuracy_count + 1\n",
      "    else:\n",
      "        np_array.append(0)\n",
      "        #Accuracy_mat.ix[c,'Indicator'] = 0\n",
      "#print Accuracy_count\n",
      "#Accuracy_mat[\"ind\"] = Indicator\n",
      "print(\"--- %s seconds ---\" % (time.time() - start_time))\n",
      "print np.array(np_array)\n",
      "#print Accuracy_mat.ix[1:10,'Indicator']"
     ],
     "language": "python",
     "metadata": {},
     "outputs": [
      {
       "output_type": "stream",
       "stream": "stdout",
       "text": [
        "--- 271.592999935 seconds ---\n",
        "[1 1 1 ..., 0 0 0]\n"
       ]
      }
     ],
     "prompt_number": 21
    },
    {
     "cell_type": "code",
     "collapsed": false,
     "input": [
      "#Accuracy_mat['Numpy_error'] = pd.DataFrame(np_array)\n",
      "#print Accuracy_mat.ix[1:100,:]\n",
      "Accuracy_mat = Accuracy_mat.ix[0:2,:]"
     ],
     "language": "python",
     "metadata": {},
     "outputs": [],
     "prompt_number": 35
    },
    {
     "cell_type": "code",
     "collapsed": false,
     "input": [
      "Accuracy_matrix = Accuracy_mat.ix[:,['Predicted','Actual','Indicator']]\n",
      "## What do I need to do:\n",
      "### Accuracy for each class\n",
      "#### Outsample accuracy and other metrics\n",
      "### Ranking of attributes"
     ],
     "language": "python",
     "metadata": {},
     "outputs": [],
     "prompt_number": 27
    },
    {
     "cell_type": "code",
     "collapsed": false,
     "input": [
      "Accuracy_matrix.shape\n",
      "Accuracy_matrix.ix[1:3,:]"
     ],
     "language": "python",
     "metadata": {},
     "outputs": [
      {
       "html": [
        "<div style=\"max-height:1000px;max-width:1500px;overflow:auto;\">\n",
        "<table border=\"1\" class=\"dataframe\">\n",
        "  <thead>\n",
        "    <tr style=\"text-align: right;\">\n",
        "      <th></th>\n",
        "      <th>Predicted</th>\n",
        "      <th>Actual</th>\n",
        "      <th>Indicator</th>\n",
        "    </tr>\n",
        "  </thead>\n",
        "  <tbody>\n",
        "    <tr>\n",
        "      <th>1</th>\n",
        "      <td> Stress</td>\n",
        "      <td> Stress</td>\n",
        "      <td> 1</td>\n",
        "    </tr>\n",
        "    <tr>\n",
        "      <th>2</th>\n",
        "      <td> Stress</td>\n",
        "      <td> Stress</td>\n",
        "      <td> 1</td>\n",
        "    </tr>\n",
        "    <tr>\n",
        "      <th>3</th>\n",
        "      <td> Stress</td>\n",
        "      <td> Stress</td>\n",
        "      <td> 1</td>\n",
        "    </tr>\n",
        "  </tbody>\n",
        "</table>\n",
        "</div>"
       ],
       "metadata": {},
       "output_type": "pyout",
       "prompt_number": 30,
       "text": [
        "  Predicted  Actual  Indicator\n",
        "1    Stress  Stress          1\n",
        "2    Stress  Stress          1\n",
        "3    Stress  Stress          1"
       ]
      }
     ],
     "prompt_number": 30
    },
    {
     "cell_type": "code",
     "collapsed": false,
     "input": [
      "Accuracy_class = Accuracy_matrix.groupby(\"Actual\").mean().add_prefix('mean_')"
     ],
     "language": "python",
     "metadata": {},
     "outputs": [],
     "prompt_number": 31
    },
    {
     "cell_type": "code",
     "collapsed": false,
     "input": [
      "print Accuracy_class"
     ],
     "language": "python",
     "metadata": {},
     "outputs": [
      {
       "output_type": "stream",
       "stream": "stdout",
       "text": [
        "             mean_Indicator\n",
        "Actual                     \n",
        "High stress        0.329100\n",
        "Low stress         0.015835\n",
        "Stress             0.664229\n"
       ]
      }
     ],
     "prompt_number": 32
    },
    {
     "cell_type": "code",
     "collapsed": false,
     "input": [
      "\n"
     ],
     "language": "python",
     "metadata": {},
     "outputs": []
    },
    {
     "cell_type": "code",
     "collapsed": false,
     "input": [],
     "language": "python",
     "metadata": {},
     "outputs": []
    },
    {
     "cell_type": "code",
     "collapsed": false,
     "input": [],
     "language": "python",
     "metadata": {},
     "outputs": []
    },
    {
     "cell_type": "code",
     "collapsed": false,
     "input": [],
     "language": "python",
     "metadata": {},
     "outputs": []
    }
   ],
   "metadata": {}
  }
 ]
}